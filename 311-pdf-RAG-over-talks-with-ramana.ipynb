{
 "cells": [
  {
   "cell_type": "markdown",
   "metadata": {},
   "source": [
    "# Analysis of Twitter the-algorithm source code with LangChain, GPT4 and Deep Lake\n",
    "In this tutorial, we are going to use Langchain + Deep Lake with GPT4 to analyze the code base of the twitter algorithm. "
   ]
  },
  {
   "attachments": {},
   "cell_type": "markdown",
   "metadata": {},
   "source": [
    "Define OpenAI embeddings, Deep Lake multi-modal vector store api and authenticate. For full documentation of Deep Lake please follow [docs](https://docs.activeloop.ai/) and [API reference](https://docs.deeplake.ai/en/latest/).\n",
    "\n",
    "Authenticate into Deep Lake if you want to create your own dataset and publish it. You can get an API key from the [platform](https://app.activeloop.ai)"
   ]
  },
  {
   "cell_type": "code",
   "execution_count": 1,
   "metadata": {},
   "outputs": [],
   "source": [
    "import re"
   ]
  },
  {
   "cell_type": "code",
   "execution_count": null,
   "metadata": {},
   "outputs": [],
   "source": [
    "TRANSFORMERS_CACHE=\"/f/C/cache/huggingface/hub\""
   ]
  },
  {
   "cell_type": "code",
   "execution_count": 2,
   "metadata": {},
   "outputs": [],
   "source": [
    "import os\n",
    "import tqdm as notebook_tqdm\n",
    "from langchain.embeddings import HuggingFaceEmbeddings\n",
    "from langchain.vectorstores import DeepLake\n",
    "\n",
    "os.environ['TRANSFORMERS_CACHE'] = 'F:\\C\\cache\\huggingface\\hub'\n",
    "os.environ['ACTIVELOOP_TOKEN'] = 'xxxxxxxxxx.xxxxxxxxxx.FeYGCK2Cc-xxxxxxxxxxxxxxx'\n",
    "\n",
    "model_name = \"sentence-transformers/multi-qa-mpnet-base-dot-v1\"\n",
    "embeddings = HuggingFaceEmbeddings(model_name=model_name)"
   ]
  },
  {
   "cell_type": "markdown",
   "metadata": {},
   "source": [
    "Load all files inside the repository"
   ]
  },
  {
   "cell_type": "code",
   "execution_count": 3,
   "metadata": {},
   "outputs": [],
   "source": [
    "from langchain.document_loaders import PyPDFLoader\n",
    "import tiktoken\n",
    "\n",
    "root_dir = '../dev/langchain/langchain'  # Declare root directory variable\n",
    "docs = []  # Create empty list for documents\n",
    "\n",
    "pdf_loader = PyPDFLoader('../sources-docs/Talks-with-Sri-Ramana-Maharshi--complete.pdf')  # Use PDFLoader to load and split the PDF file's content\n",
    "docs.extend(pdf_loader.load()) # just load, don't split"
   ]
  },
  {
   "cell_type": "code",
   "execution_count": 29,
   "metadata": {},
   "outputs": [
    {
     "name": "stdout",
     "output_type": "stream",
     "text": [
      "page_content='31Talks with Sri Ramana Maharshi\\n(a) Is omniscience of God consistent with ego’s freewill?\\n(b) Is omnipotence of God consistent with ego’s freewill?\\n(c) Are the natural laws consistent with God’s free-will?\\nM.: Yes. Free-will is the present appearing to a limited faculty of \\nsight and will. The same ego sees its past activity as falling into a \\ncourse of ‘law’ or rules - its own free-will being one of the links \\nin that course of law.\\nOmnipotence and omniscience of God are then seen by the ego to \\nhave acted through the appearance of his own free-will. So he comes \\nto the conclusion that the ego must go by appearances. Natural laws \\nare manifestations of God’s will and they have been laid down.\\nD.: Is the study of science, psychology, physiology, philosophy, etc. \\nhelpful for:-\\n(1) this art of yoga-liberation.\\n(2) the intuitive grasp of the unity of the Real?\\nM.: Very little. Some knowledge is needed for yoga and it may be \\nfound in books. But practical application is the thing needed, and \\npersonal example, personal touch and personal instructions are the \\nmost helpful aids. As for the other, a person may laboriously convince \\nhimself of the truth to be intuited, i.e., its function and nature, but the \\nactual intuition is akin to feeling and requires practice and personal \\ncontact. Mere book learning is not of any great use. After realisation \\nall intellectual loads are useless burdens and are thrown overboard \\nas jetsam. Jettisoning the ego is necessary and natural.\\nD.: How does dream differ from waking?\\nM.: In dreams one takes on different bodies, and they re-enter this \\nbody when one dreams of sense-contacts.\\nD.: What is happiness? Is it inhering in the Atman or in the object, or \\nin the contact between the subject and the object? But we do not \\nsee happiness in our affairs. When does It actually arise?\\nM.: When there is contact of a desirable sort or memory thereof, \\nand when there is freedom from undesirable contacts or memory \\nthereof, we say there is happiness. Such happiness is relative and \\nis better called pleasure.' metadata={'source': '../Talks-with-Sri-Ramana-Maharshi--complete.pdf', 'page': 40}\n",
      "<class 'langchain.schema.Document'>\n",
      "page_content='(a) Is omniscience of God consistent with ego’s freewill?\\n(b) Is omnipotence of God consistent with ego’s freewill?\\n(c) Are the natural laws consistent with God’s free-will?\\nM.: Yes. Free-will is the present appearing to a limited faculty of \\nsight and will. The same ego sees its past activity as falling into a \\ncourse of ‘law’ or rules - its own free-will being one of the links \\nin that course of law.\\nOmnipotence and omniscience of God are then seen by the ego to \\nhave acted through the appearance of his own free-will. So he comes \\nto the conclusion that the ego must go by appearances. Natural laws \\nare manifestations of God’s will and they have been laid down.\\nD.: Is the study of science, psychology, physiology, philosophy, etc. \\nhelpful for:-\\n(1) this art of yoga-liberation.\\n(2) the intuitive grasp of the unity of the Real?\\nM.: Very little. Some knowledge is needed for yoga and it may be \\nfound in books. But practical application is the thing needed, and \\npersonal example, personal touch and personal instructions are the \\nmost helpful aids. As for the other, a person may laboriously convince \\nhimself of the truth to be intuited, i.e., its function and nature, but the \\nactual intuition is akin to feeling and requires practice and personal \\ncontact. Mere book learning is not of any great use. After realisation \\nall intellectual loads are useless burdens and are thrown overboard \\nas jetsam. Jettisoning the ego is necessary and natural.\\nD.: How does dream differ from waking?\\nM.: In dreams one takes on different bodies, and they re-enter this \\nbody when one dreams of sense-contacts.\\nD.: What is happiness? Is it inhering in the Atman or in the object, or \\nin the contact between the subject and the object? But we do not \\nsee happiness in our affairs. When does It actually arise?\\nM.: When there is contact of a desirable sort or memory thereof, \\nand when there is freedom from undesirable contacts or memory \\nthereof, we say there is happiness. Such happiness is relative and \\nis better called pleasure.' metadata={'source': '../Talks-with-Sri-Ramana-Maharshi--complete.pdf', 'page': 40}\n"
     ]
    }
   ],
   "source": [
    "import re\n",
    "len(docs) # number of processed document pages\n",
    "print(docs[40]) # returns 31Talks with Sri Ramana Maharshi\\n(a) Is omniscience of God consis ....\n",
    "print(type(docs[40])) # <class 'str'>\n",
    "# Use regex to remove \"31Talks with Sri Ramana Maharshi\\n\"\n",
    "pg_40 = re.sub(r'\\d{1,3}Talks with Sri Ramana Maharshi\\\\n', '', str(docs[40]))\n",
    "print(pg_40)"
   ]
  },
  {
   "cell_type": "code",
   "execution_count": 16,
   "metadata": {},
   "outputs": [],
   "source": [
    "import tiktoken\n",
    "\n",
    "tokenizer = tiktoken.get_encoding('cl100k_base')\n",
    "\n",
    "# create the length function\n",
    "def tiktoken_len(text):\n",
    "    tokens = tokenizer.encode(\n",
    "        text,\n",
    "        disallowed_special=()\n",
    "    )\n",
    "    return len(tokens)"
   ]
  },
  {
   "attachments": {},
   "cell_type": "markdown",
   "metadata": {},
   "source": [
    "# Visualizing Token Length in Docs"
   ]
  },
  {
   "cell_type": "code",
   "execution_count": 52,
   "metadata": {},
   "outputs": [
    {
     "name": "stdout",
     "output_type": "stream",
     "text": [
      "Min: 0\n",
      "Avg: 490\n",
      "Max: 812\n"
     ]
    },
    {
     "data": {
      "image/png": "[encoded data removed]",
      "text/plain": [
       "<Figure size 1200x600 with 1 Axes>"
      ]
     },
     "metadata": {},
     "output_type": "display_data"
    }
   ],
   "source": [
    "token_counts = [tiktoken_len(doc.page_content) for doc in docs]\n",
    "\n",
    "print(f\"\"\"Min: {min(token_counts)}\n",
    "Avg: {int(sum(token_counts) / len(token_counts))}\n",
    "Max: {max(token_counts)}\"\"\")\n",
    "\n",
    "import matplotlib.pyplot as plt\n",
    "import seaborn as sns\n",
    "\n",
    "# set style and color palette for the plot\n",
    "sns.set_style(\"whitegrid\")\n",
    "sns.set_palette(\"muted\")\n",
    "\n",
    "# create histogram\n",
    "plt.figure(figsize=(12, 6))\n",
    "sns.histplot(token_counts, kde=False, bins=50)\n",
    "\n",
    "# customize the plot info\n",
    "plt.title(\"Token Counts Histogram\")\n",
    "plt.xlabel(\"Token Count\")\n",
    "plt.ylabel(\"Frequency\")\n",
    "\n",
    "plt.show()"
   ]
  },
  {
   "cell_type": "markdown",
   "metadata": {},
   "source": [
    "Then, chunk the files"
   ]
  },
  {
   "attachments": {},
   "cell_type": "markdown",
   "metadata": {},
   "source": [
    "## New Chunking method"
   ]
  },
  {
   "cell_type": "code",
   "execution_count": 18,
   "metadata": {},
   "outputs": [],
   "source": [
    "from langchain.text_splitter import RecursiveCharacterTextSplitter\n",
    "\n",
    "text_splitter = RecursiveCharacterTextSplitter(\n",
    "    chunk_size=400,\n",
    "    chunk_overlap=20,  # number of tokens overlap between chunks\n",
    "    length_function=tiktoken_len,\n",
    "    separators=['\\n\\n', '\\n', ' ', '']\n",
    ")"
   ]
  },
  {
   "cell_type": "code",
   "execution_count": 19,
   "metadata": {},
   "outputs": [
    {
     "name": "stdout",
     "output_type": "stream",
     "text": [
      "page_content='16Talks with Sri Ramana Maharshi\\nD.: They say that there are many saints in Tibet who remain in solitude \\nand are still very helpful to the world. How can it be?\\nM.: It can be so. Realisation of the Self is the greatest help that can be \\nrendered to humanity. Therefore, the saints are said to be helpful, \\nthough they remain in forests. But it should not be forgotten that \\nsolitude is not in forests only. It can be had even in towns, in the \\nthick of worldly occupations.\\nD.: It is not necessary that the saints should mix with people and be \\nhelpful to them?\\nM.: The Self alone is the Reality; the world and the rest of it are not. The \\nrealised being does not see the world as different from himself.\\nD.: Thus then, the saint’s realisation leads to the uplift of humanity \\nwithout the latter being aware of it. Is it so?\\nM.: Yes. The help is imperceptible but is still there. A saint helps the \\nwhole of humanity, unknown to the latter.\\nD.: Would it not be better if he mixed with others?\\nM.: There are no others to mix with. The Self is the one and only \\nReality.\\nD.: If there be a hundred Self-realised men will it not be to the greater \\nbenefit of the world?\\nM.: When you say ‘Self’ you refer to the unlimited, but when you add \\n‘men’ to it, you limit the meaning. There is only one Infinite Self.\\nD.: Yes, yes, I see! Sri Krishna has said in the Gita that work must \\nbe performed without attachment and such work is better than \\nidleness. Is it Karma Yoga?\\nM.: What is said is given out to suit the temperament of the hearers.\\nD.: In Europe it is not understood by the people that a man in solitude \\ncan be helpful. They imagine that men working in the world can \\nalone be useful. When will this confusion cease? Will the European \\nmind continue wading in the morass or will it realise the truth?\\nM.: Never mind Europe or America. Where are they except in your \\nmind? Realise your Self and then all is realised.\\nIf you dream and see several men, and then wake up and recall \\nyour dream, do you try to ascertain if the persons of your dream \\ncreation are also awake?' metadata={'source': '../Talks-with-Sri-Ramana-Maharshi--complete.pdf', 'page': 25}\n"
     ]
    }
   ],
   "source": [
    "print(docs[25])"
   ]
  },
  {
   "cell_type": "code",
   "execution_count": 36,
   "metadata": {},
   "outputs": [
    {
     "data": {
      "application/vnd.jupyter.widget-view+json": {
       "model_id": "5685943fa1344e30b1a7bd6847501cbb",
       "version_major": 2,
       "version_minor": 0
      },
      "text/plain": [
       "  0%|          | 0/704 [00:00<?, ?it/s]"
      ]
     },
     "metadata": {},
     "output_type": "display_data"
    }
   ],
   "source": [
    "import hashlib\n",
    "m = hashlib.md5()  # this will convert URL into unique ID\n",
    "\n",
    "from tqdm.auto import tqdm\n",
    "from langchain.docstore.document import Document\n",
    "documents = []\n",
    "\n",
    "for doc in tqdm(docs):\n",
    "    url = doc.metadata['source'].replace('../dev/langchain/langchain\\\\', 'https://github.com/hwchase17/langchain/tree/master/langchain/')\n",
    "    m.update(url.encode('utf-8'))\n",
    "    uid = m.hexdigest()[:12]\n",
    "    chunks = text_splitter.split_text(doc.page_content)\n",
    "    for i, chunk in enumerate(chunks):\n",
    "        documents.append(\n",
    "            Document(\n",
    "                page_content = chunk\n",
    "            )\n",
    "        )\n",
    "            # {'text': chunk})\n",
    "        # documents.append({\n",
    "        #     'id': f'{uid}-{i}',\n",
    "        #     'text': chunk,\n",
    "        #     'source': url\n",
    "        # })\n",
    "        # documents.extend(f\"id={uid}-{i}\")\n",
    "        # documents.extend('text={chunk}')\n",
    "        # documents.extend('source={url}')\n"
   ]
  },
  {
   "cell_type": "code",
   "execution_count": 48,
   "metadata": {},
   "outputs": [
    {
     "name": "stdout",
     "output_type": "stream",
     "text": [
      "page_content='16Talks with Sri Ramana Maharshi\\nD.: They say that there are many saints in Tibet who remain in solitude \\nand are still very helpful to the world. How can it be?\\nM.: It can be so. Realisation of the Self is the greatest help that can be \\nrendered to humanity. Therefore, the saints are said to be helpful, \\nthough they remain in forests. But it should not be forgotten that \\nsolitude is not in forests only. It can be had even in towns, in the \\nthick of worldly occupations.\\nD.: It is not necessary that the saints should mix with people and be \\nhelpful to them?\\nM.: The Self alone is the Reality; the world and the rest of it are not. The \\nrealised being does not see the world as different from himself.\\nD.: Thus then, the saint’s realisation leads to the uplift of humanity \\nwithout the latter being aware of it. Is it so?\\nM.: Yes. The help is imperceptible but is still there. A saint helps the \\nwhole of humanity, unknown to the latter.\\nD.: Would it not be better if he mixed with others?\\nM.: There are no others to mix with. The Self is the one and only \\nReality.\\nD.: If there be a hundred Self-realised men will it not be to the greater \\nbenefit of the world?\\nM.: When you say ‘Self’ you refer to the unlimited, but when you add \\n‘men’ to it, you limit the meaning. There is only one Infinite Self.\\nD.: Yes, yes, I see! Sri Krishna has said in the Gita that work must \\nbe performed without attachment and such work is better than \\nidleness. Is it Karma Yoga?\\nM.: What is said is given out to suit the temperament of the hearers.\\nD.: In Europe it is not understood by the people that a man in solitude \\ncan be helpful. They imagine that men working in the world can \\nalone be useful. When will this confusion cease? Will the European \\nmind continue wading in the morass or will it realise the truth?\\nM.: Never mind Europe or America. Where are they except in your \\nmind? Realise your Self and then all is realised.\\nIf you dream and see several men, and then wake up and recall \\nyour dream, do you try to ascertain if the persons of your dream \\ncreation are also awake?' metadata={'source': '../Talks-with-Sri-Ramana-Maharshi--complete.pdf', 'page': 25}\n"
     ]
    }
   ],
   "source": [
    "len(documents)\n",
    "print(docs[25])"
   ]
  },
  {
   "cell_type": "code",
   "execution_count": 204,
   "metadata": {},
   "outputs": [
    {
     "name": "stdout",
     "output_type": "stream",
     "text": [
      "page_content='\"\"\"Beta Feature: base interface for cache.\"\"\"\\nimport json\\nfrom abc import ABC, abstractmethod\\nfrom typing import Any, Callable, Dict, List, Optional, Tuple\\n\\nfrom sqlalchemy import Column, Integer, String, create_engine, select\\nfrom sqlalchemy.engine.base import Engine\\nfrom sqlalchemy.orm import Session\\n\\ntry:\\n    from sqlalchemy.orm import declarative_base\\nexcept ImportError:\\n    from sqlalchemy.ext.declarative import declarative_base\\n\\nfrom langchain.schema import Generation\\n\\nRETURN_VAL_TYPE = List[Generation]\\n\\n\\nclass BaseCache(ABC):\\n    \"\"\"Base interface for cache.\"\"\"\\n\\n    @abstractmethod\\n    def lookup(self, prompt: str, llm_string: str) -> Optional[RETURN_VAL_TYPE]:\\n        \"\"\"Look up based on prompt and llm_string.\"\"\"\\n\\n    @abstractmethod\\n    def update(self, prompt: str, llm_string: str, return_val: RETURN_VAL_TYPE) -> None:\\n        \"\"\"Update cache based on prompt and llm_string.\"\"\"\\n\\n\\nclass InMemoryCache(BaseCache):\\n    \"\"\"Cache that stores things in memory.\"\"\"' metadata={'source': '../dev/langchain/langchain\\\\cache.py'}\n",
      "<class 'langchain.schema.Document'>\n",
      "page_content='TALKS \\nWITH \\nSRI RAMANA  MAHARSHI\\nSRI RAMANASRAMAM\\nTiruvannamalai\\n2006' metadata={'id': 'cb9055527713-0', 'source': '../Talks-with-Sri-Ramana-Maharshi--complete.pdf'}\n",
      "<class 'langchain.schema.Document'>\n",
      "\n"
     ]
    }
   ],
   "source": []
  },
  {
   "cell_type": "markdown",
   "metadata": {},
   "source": [
    "Execute the indexing. This will take about ~4 mins to compute embeddings and upload to Activeloop. You can then publish the dataset to be public."
   ]
  },
  {
   "attachments": {},
   "cell_type": "markdown",
   "metadata": {},
   "source": [
    "# Vector Storage"
   ]
  },
  {
   "cell_type": "code",
   "execution_count": 56,
   "metadata": {},
   "outputs": [],
   "source": [
    "database_name = \"ramana_talks2\"\n",
    "\n",
    "content_source = documents\n",
    "# content_source = text   # Old chunking method"
   ]
  },
  {
   "attachments": {},
   "cell_type": "markdown",
   "metadata": {},
   "source": [
    "## Local"
   ]
  },
  {
   "cell_type": "code",
   "execution_count": 55,
   "metadata": {},
   "outputs": [
    {
     "name": "stdout",
     "output_type": "stream",
     "text": [
      "mem://ramana_talks loaded successfully.\n"
     ]
    },
    {
     "name": "stderr",
     "output_type": "stream",
     "text": [
      "Evaluating ingest: 0%|          | 0/2 [00:00<?"
     ]
    },
    {
     "ename": "KeyboardInterrupt",
     "evalue": "",
     "output_type": "error",
     "traceback": [
      "\u001b[1;31m---------------------------------------------------------------------------\u001b[0m",
      "\u001b[1;31mKeyboardInterrupt\u001b[0m                         Traceback (most recent call last)",
      "Cell \u001b[1;32mIn[55], line 2\u001b[0m\n\u001b[0;32m      1\u001b[0m \u001b[39mimport\u001b[39;00m \u001b[39mdeeplake\u001b[39;00m\n\u001b[1;32m----> 2\u001b[0m db \u001b[39m=\u001b[39m DeepLake\u001b[39m.\u001b[39;49mfrom_documents(content_source, embeddings, dataset_path\u001b[39m=\u001b[39;49m\u001b[39mf\u001b[39;49m\u001b[39m\"\u001b[39;49m\u001b[39mmem://\u001b[39;49m\u001b[39m{\u001b[39;49;00mdatabase_name\u001b[39m}\u001b[39;49;00m\u001b[39m\"\u001b[39;49m)\n",
      "File \u001b[1;32mf:\\ProgramData\\miniconda3\\envs\\github-qa-langchain\\lib\\site-packages\\langchain\\vectorstores\\base.py:218\u001b[0m, in \u001b[0;36mVectorStore.from_documents\u001b[1;34m(cls, documents, embedding, **kwargs)\u001b[0m\n\u001b[0;32m    216\u001b[0m texts \u001b[39m=\u001b[39m [d\u001b[39m.\u001b[39mpage_content \u001b[39mfor\u001b[39;00m d \u001b[39min\u001b[39;00m documents]\n\u001b[0;32m    217\u001b[0m metadatas \u001b[39m=\u001b[39m [d\u001b[39m.\u001b[39mmetadata \u001b[39mfor\u001b[39;00m d \u001b[39min\u001b[39;00m documents]\n\u001b[1;32m--> 218\u001b[0m \u001b[39mreturn\u001b[39;00m \u001b[39mcls\u001b[39m\u001b[39m.\u001b[39mfrom_texts(texts, embedding, metadatas\u001b[39m=\u001b[39mmetadatas, \u001b[39m*\u001b[39m\u001b[39m*\u001b[39mkwargs)\n",
      "File \u001b[1;32mf:\\ProgramData\\miniconda3\\envs\\github-qa-langchain\\lib\\site-packages\\langchain\\vectorstores\\deeplake.py:476\u001b[0m, in \u001b[0;36mDeepLake.from_texts\u001b[1;34m(cls, texts, embedding, metadatas, ids, dataset_path, **kwargs)\u001b[0m\n\u001b[0;32m    444\u001b[0m \u001b[39m\u001b[39m\u001b[39m\"\"\"Create a Deep Lake dataset from a raw documents.\u001b[39;00m\n\u001b[0;32m    445\u001b[0m \n\u001b[0;32m    446\u001b[0m \u001b[39mIf a dataset_path is specified, the dataset will be persisted there.\u001b[39;00m\n\u001b[1;32m   (...)\u001b[0m\n\u001b[0;32m    471\u001b[0m \u001b[39m    DeepLake: Deep Lake dataset.\u001b[39;00m\n\u001b[0;32m    472\u001b[0m \u001b[39m\"\"\"\u001b[39;00m\n\u001b[0;32m    473\u001b[0m deeplake_dataset \u001b[39m=\u001b[39m \u001b[39mcls\u001b[39m(\n\u001b[0;32m    474\u001b[0m     dataset_path\u001b[39m=\u001b[39mdataset_path, embedding_function\u001b[39m=\u001b[39membedding, \u001b[39m*\u001b[39m\u001b[39m*\u001b[39mkwargs\n\u001b[0;32m    475\u001b[0m )\n\u001b[1;32m--> 476\u001b[0m deeplake_dataset\u001b[39m.\u001b[39;49madd_texts(texts\u001b[39m=\u001b[39;49mtexts, metadatas\u001b[39m=\u001b[39;49mmetadatas, ids\u001b[39m=\u001b[39;49mids)\n\u001b[0;32m    477\u001b[0m \u001b[39mreturn\u001b[39;00m deeplake_dataset\n",
      "File \u001b[1;32mf:\\ProgramData\\miniconda3\\envs\\github-qa-langchain\\lib\\site-packages\\langchain\\vectorstores\\deeplake.py:222\u001b[0m, in \u001b[0;36mDeepLake.add_texts\u001b[1;34m(self, texts, metadatas, ids, **kwargs)\u001b[0m\n\u001b[0;32m    217\u001b[0m batch_size \u001b[39m=\u001b[39m \u001b[39mmin\u001b[39m(\u001b[39mself\u001b[39m\u001b[39m.\u001b[39mingestion_batch_size, \u001b[39mlen\u001b[39m(elements))\n\u001b[0;32m    218\u001b[0m batched \u001b[39m=\u001b[39m [\n\u001b[0;32m    219\u001b[0m     elements[i : i \u001b[39m+\u001b[39m batch_size] \u001b[39mfor\u001b[39;00m i \u001b[39min\u001b[39;00m \u001b[39mrange\u001b[39m(\u001b[39m0\u001b[39m, \u001b[39mlen\u001b[39m(elements), batch_size)\n\u001b[0;32m    220\u001b[0m ]\n\u001b[1;32m--> 222\u001b[0m ingest()\u001b[39m.\u001b[39;49meval(\n\u001b[0;32m    223\u001b[0m     batched,\n\u001b[0;32m    224\u001b[0m     \u001b[39mself\u001b[39;49m\u001b[39m.\u001b[39;49mds,\n\u001b[0;32m    225\u001b[0m     num_workers\u001b[39m=\u001b[39;49m\u001b[39mmin\u001b[39;49m(\u001b[39mself\u001b[39;49m\u001b[39m.\u001b[39;49mnum_workers, \u001b[39mlen\u001b[39;49m(batched) \u001b[39m/\u001b[39;49m\u001b[39m/\u001b[39;49m \u001b[39mself\u001b[39;49m\u001b[39m.\u001b[39;49mnum_workers),\n\u001b[0;32m    226\u001b[0m )\n\u001b[0;32m    227\u001b[0m \u001b[39mself\u001b[39m\u001b[39m.\u001b[39mds\u001b[39m.\u001b[39mcommit(allow_empty\u001b[39m=\u001b[39m\u001b[39mTrue\u001b[39;00m)\n\u001b[0;32m    228\u001b[0m \u001b[39mself\u001b[39m\u001b[39m.\u001b[39mds\u001b[39m.\u001b[39msummary()\n",
      "File \u001b[1;32mf:\\ProgramData\\miniconda3\\envs\\github-qa-langchain\\lib\\site-packages\\deeplake\\core\\transform\\transform.py:95\u001b[0m, in \u001b[0;36mComputeFunction.eval\u001b[1;34m(self, data_in, ds_out, num_workers, scheduler, progressbar, skip_ok, check_lengths, pad_data_in, read_only_ok, checkpoint_interval, ignore_errors, **kwargs)\u001b[0m\n\u001b[0;32m     62\u001b[0m \u001b[39m\u001b[39m\u001b[39m\"\"\"Evaluates the ComputeFunction on data_in to produce an output dataset ds_out.\u001b[39;00m\n\u001b[0;32m     63\u001b[0m \n\u001b[0;32m     64\u001b[0m \u001b[39mArgs:\u001b[39;00m\n\u001b[1;32m   (...)\u001b[0m\n\u001b[0;32m     91\u001b[0m \u001b[39m    ValueError: If ``num_workers`` > 0 and ``checkpoint_interval`` is not a multiple of ``num_workers`` or if ``checkpoint_interval`` > 0 and ds_out is None.\u001b[39;00m\n\u001b[0;32m     92\u001b[0m \u001b[39m\"\"\"\u001b[39;00m\n\u001b[0;32m     94\u001b[0m pipeline \u001b[39m=\u001b[39m Pipeline([\u001b[39mself\u001b[39m])\n\u001b[1;32m---> 95\u001b[0m pipeline\u001b[39m.\u001b[39meval(\n\u001b[0;32m     96\u001b[0m     data_in,\n\u001b[0;32m     97\u001b[0m     ds_out,\n\u001b[0;32m     98\u001b[0m     num_workers,\n\u001b[0;32m     99\u001b[0m     scheduler,\n\u001b[0;32m    100\u001b[0m     progressbar,\n\u001b[0;32m    101\u001b[0m     skip_ok,\n\u001b[0;32m    102\u001b[0m     check_lengths,\n\u001b[0;32m    103\u001b[0m     pad_data_in,\n\u001b[0;32m    104\u001b[0m     read_only_ok,\n\u001b[0;32m    105\u001b[0m     checkpoint_interval,\n\u001b[0;32m    106\u001b[0m     ignore_errors,\n\u001b[0;32m    107\u001b[0m     \u001b[39m*\u001b[39m\u001b[39m*\u001b[39mkwargs,\n\u001b[0;32m    108\u001b[0m )\n",
      "File \u001b[1;32mf:\\ProgramData\\miniconda3\\envs\\github-qa-langchain\\lib\\site-packages\\deeplake\\core\\transform\\transform.py:260\u001b[0m, in \u001b[0;36mPipeline.eval\u001b[1;34m(self, data_in, ds_out, num_workers, scheduler, progressbar, skip_ok, check_lengths, pad_data_in, read_only_ok, checkpoint_interval, ignore_errors, **kwargs)\u001b[0m\n\u001b[0;32m    257\u001b[0m progress_args \u001b[39m=\u001b[39m {\u001b[39m\"\u001b[39m\u001b[39mcompute_id\u001b[39m\u001b[39m\"\u001b[39m: compute_id, \u001b[39m\"\u001b[39m\u001b[39mprogress\u001b[39m\u001b[39m\"\u001b[39m: progress, \u001b[39m\"\u001b[39m\u001b[39mend\u001b[39m\u001b[39m\"\u001b[39m: end}\n\u001b[0;32m    259\u001b[0m \u001b[39mtry\u001b[39;00m:\n\u001b[1;32m--> 260\u001b[0m     \u001b[39mself\u001b[39m\u001b[39m.\u001b[39mrun(\n\u001b[0;32m    261\u001b[0m         data_in,\n\u001b[0;32m    262\u001b[0m         target_ds,\n\u001b[0;32m    263\u001b[0m         compute_provider,\n\u001b[0;32m    264\u001b[0m         num_workers,\n\u001b[0;32m    265\u001b[0m         scheduler,\n\u001b[0;32m    266\u001b[0m         progressbar,\n\u001b[0;32m    267\u001b[0m         overwrite,\n\u001b[0;32m    268\u001b[0m         skip_ok,\n\u001b[0;32m    269\u001b[0m         read_only_ok \u001b[39mand\u001b[39;00m overwrite,\n\u001b[0;32m    270\u001b[0m         pbar,\n\u001b[0;32m    271\u001b[0m         pqueue,\n\u001b[0;32m    272\u001b[0m         ignore_errors,\n\u001b[0;32m    273\u001b[0m         \u001b[39m*\u001b[39m\u001b[39m*\u001b[39mkwargs,\n\u001b[0;32m    274\u001b[0m     )\n\u001b[0;32m    275\u001b[0m     target_ds\u001b[39m.\u001b[39m_send_compute_progress(\u001b[39m*\u001b[39m\u001b[39m*\u001b[39mprogress_args, status\u001b[39m=\u001b[39m\u001b[39m\"\u001b[39m\u001b[39msuccess\u001b[39m\u001b[39m\"\u001b[39m)\n\u001b[0;32m    276\u001b[0m     samples_processed \u001b[39m+\u001b[39m\u001b[39m=\u001b[39m \u001b[39mlen\u001b[39m(data_in)\n",
      "File \u001b[1;32mf:\\ProgramData\\miniconda3\\envs\\github-qa-langchain\\lib\\site-packages\\deeplake\\core\\transform\\transform.py:399\u001b[0m, in \u001b[0;36mPipeline.run\u001b[1;34m(self, data_in, target_ds, compute, num_workers, scheduler, progressbar, overwrite, skip_ok, read_only, pbar, pqueue, ignore_errors, **kwargs)\u001b[0m\n\u001b[0;32m    397\u001b[0m \u001b[39mif\u001b[39;00m progressbar:\n\u001b[0;32m    398\u001b[0m     desc \u001b[39m=\u001b[39m get_pbar_description(\u001b[39mself\u001b[39m\u001b[39m.\u001b[39mfunctions)\n\u001b[1;32m--> 399\u001b[0m     result \u001b[39m=\u001b[39m compute\u001b[39m.\u001b[39;49mmap_with_progress_bar(\n\u001b[0;32m    400\u001b[0m         store_data_slice_with_pbar,\n\u001b[0;32m    401\u001b[0m         map_inp,\n\u001b[0;32m    402\u001b[0m         total_length\u001b[39m=\u001b[39;49m\u001b[39mlen\u001b[39;49m(data_in),\n\u001b[0;32m    403\u001b[0m         desc\u001b[39m=\u001b[39;49mdesc,\n\u001b[0;32m    404\u001b[0m         pbar\u001b[39m=\u001b[39;49mpbar,\n\u001b[0;32m    405\u001b[0m         pqueue\u001b[39m=\u001b[39;49mpqueue,\n\u001b[0;32m    406\u001b[0m     )\n\u001b[0;32m    407\u001b[0m \u001b[39melse\u001b[39;00m:\n\u001b[0;32m    408\u001b[0m     result \u001b[39m=\u001b[39m compute\u001b[39m.\u001b[39mmap(store_data_slice, map_inp)\n",
      "File \u001b[1;32mf:\\ProgramData\\miniconda3\\envs\\github-qa-langchain\\lib\\site-packages\\deeplake\\core\\compute\\serial.py:28\u001b[0m, in \u001b[0;36mSerialProvider.map_with_progress_bar\u001b[1;34m(self, func, iterable, total_length, desc, pbar, pqueue)\u001b[0m\n\u001b[0;32m     24\u001b[0m         progress_bar\u001b[39m.\u001b[39mupdate(value)\n\u001b[0;32m     26\u001b[0m     \u001b[39mreturn\u001b[39;00m func(pg_callback, \u001b[39m*\u001b[39margs, \u001b[39m*\u001b[39m\u001b[39m*\u001b[39mkwargs)\n\u001b[1;32m---> 28\u001b[0m result \u001b[39m=\u001b[39m \u001b[39mself\u001b[39;49m\u001b[39m.\u001b[39;49mmap(sub_func, iterable)\n\u001b[0;32m     30\u001b[0m \u001b[39mreturn\u001b[39;00m result\n",
      "File \u001b[1;32mf:\\ProgramData\\miniconda3\\envs\\github-qa-langchain\\lib\\site-packages\\deeplake\\core\\compute\\serial.py:9\u001b[0m, in \u001b[0;36mSerialProvider.map\u001b[1;34m(self, func, iterable)\u001b[0m\n\u001b[0;32m      8\u001b[0m \u001b[39mdef\u001b[39;00m \u001b[39mmap\u001b[39m(\u001b[39mself\u001b[39m, func, iterable):\n\u001b[1;32m----> 9\u001b[0m     \u001b[39mreturn\u001b[39;00m \u001b[39mlist\u001b[39;49m(\u001b[39mmap\u001b[39;49m(func, iterable))\n",
      "File \u001b[1;32mf:\\ProgramData\\miniconda3\\envs\\github-qa-langchain\\lib\\site-packages\\deeplake\\core\\compute\\serial.py:26\u001b[0m, in \u001b[0;36mSerialProvider.map_with_progress_bar.<locals>.sub_func\u001b[1;34m(*args, **kwargs)\u001b[0m\n\u001b[0;32m     23\u001b[0m \u001b[39mdef\u001b[39;00m \u001b[39mpg_callback\u001b[39m(value: \u001b[39mint\u001b[39m):\n\u001b[0;32m     24\u001b[0m     progress_bar\u001b[39m.\u001b[39mupdate(value)\n\u001b[1;32m---> 26\u001b[0m \u001b[39mreturn\u001b[39;00m func(pg_callback, \u001b[39m*\u001b[39margs, \u001b[39m*\u001b[39m\u001b[39m*\u001b[39mkwargs)\n",
      "File \u001b[1;32mf:\\ProgramData\\miniconda3\\envs\\github-qa-langchain\\lib\\site-packages\\deeplake\\util\\transform.py:157\u001b[0m, in \u001b[0;36mstore_data_slice_with_pbar\u001b[1;34m(pg_callback, transform_input)\u001b[0m\n\u001b[0;32m    148\u001b[0m     extend_data_slice(\n\u001b[0;32m    149\u001b[0m         data_slice,\n\u001b[0;32m    150\u001b[0m         offset,\n\u001b[1;32m   (...)\u001b[0m\n\u001b[0;32m    154\u001b[0m         pg_callback,\n\u001b[0;32m    155\u001b[0m     )\n\u001b[0;32m    156\u001b[0m \u001b[39melse\u001b[39;00m:\n\u001b[1;32m--> 157\u001b[0m     transform_data_slice_and_append(\n\u001b[0;32m    158\u001b[0m         data_slice,\n\u001b[0;32m    159\u001b[0m         offset,\n\u001b[0;32m    160\u001b[0m         pipeline,\n\u001b[0;32m    161\u001b[0m         visible_tensors,\n\u001b[0;32m    162\u001b[0m         label_temp_tensors,\n\u001b[0;32m    163\u001b[0m         actual_tensors,\n\u001b[0;32m    164\u001b[0m         all_chunk_engines,\n\u001b[0;32m    165\u001b[0m         group_index,\n\u001b[0;32m    166\u001b[0m         pg_callback,\n\u001b[0;32m    167\u001b[0m         skip_ok,\n\u001b[0;32m    168\u001b[0m         ignore_errors,\n\u001b[0;32m    169\u001b[0m     )\n\u001b[0;32m    171\u001b[0m \u001b[39m# retrieve relevant objects from memory\u001b[39;00m\n\u001b[0;32m    172\u001b[0m all_tensor_metas \u001b[39m=\u001b[39m {}\n",
      "File \u001b[1;32mf:\\ProgramData\\miniconda3\\envs\\github-qa-langchain\\lib\\site-packages\\deeplake\\util\\transform.py:328\u001b[0m, in \u001b[0;36mtransform_data_slice_and_append\u001b[1;34m(data_slice, offset, pipeline, tensors, label_temp_tensors, actual_tensors, all_chunk_engines, group_index, pg_callback, skip_ok, ignore_errors)\u001b[0m\n\u001b[0;32m    322\u001b[0m \u001b[39mfor\u001b[39;00m i, sample \u001b[39min\u001b[39;00m \u001b[39menumerate\u001b[39m(\n\u001b[0;32m    323\u001b[0m     (data_slice[i : i \u001b[39m+\u001b[39m \u001b[39m1\u001b[39m] \u001b[39mfor\u001b[39;00m i \u001b[39min\u001b[39;00m \u001b[39mrange\u001b[39m(n))\n\u001b[0;32m    324\u001b[0m     \u001b[39mif\u001b[39;00m pd \u001b[39mand\u001b[39;00m \u001b[39misinstance\u001b[39m(data_slice, pd\u001b[39m.\u001b[39mDataFrame)\n\u001b[0;32m    325\u001b[0m     \u001b[39melse\u001b[39;00m data_slice\n\u001b[0;32m    326\u001b[0m ):\n\u001b[0;32m    327\u001b[0m     \u001b[39mtry\u001b[39;00m:\n\u001b[1;32m--> 328\u001b[0m         _transform_sample_and_update_chunk_engines(\n\u001b[0;32m    329\u001b[0m             sample,\n\u001b[0;32m    330\u001b[0m             pipeline,\n\u001b[0;32m    331\u001b[0m             tensors,\n\u001b[0;32m    332\u001b[0m             label_temp_tensors,\n\u001b[0;32m    333\u001b[0m             actual_tensors,\n\u001b[0;32m    334\u001b[0m             all_chunk_engines,\n\u001b[0;32m    335\u001b[0m             group_index,\n\u001b[0;32m    336\u001b[0m             skip_ok,\n\u001b[0;32m    337\u001b[0m         )\n\u001b[0;32m    338\u001b[0m         \u001b[39mif\u001b[39;00m pg_callback \u001b[39mis\u001b[39;00m \u001b[39mnot\u001b[39;00m \u001b[39mNone\u001b[39;00m:\n\u001b[0;32m    339\u001b[0m             curr_time \u001b[39m=\u001b[39m time\u001b[39m.\u001b[39mtime()\n",
      "File \u001b[1;32mf:\\ProgramData\\miniconda3\\envs\\github-qa-langchain\\lib\\site-packages\\deeplake\\util\\transform.py:218\u001b[0m, in \u001b[0;36m_transform_sample_and_update_chunk_engines\u001b[1;34m(sample, pipeline, tensors, label_temp_tensors, actual_tensors, all_chunk_engines, group_index, skip_ok)\u001b[0m\n\u001b[0;32m    208\u001b[0m \u001b[39mdef\u001b[39;00m \u001b[39m_transform_sample_and_update_chunk_engines\u001b[39m(\n\u001b[0;32m    209\u001b[0m     sample,\n\u001b[0;32m    210\u001b[0m     pipeline,\n\u001b[1;32m   (...)\u001b[0m\n\u001b[0;32m    216\u001b[0m     skip_ok: \u001b[39mbool\u001b[39m \u001b[39m=\u001b[39m \u001b[39mFalse\u001b[39;00m,\n\u001b[0;32m    217\u001b[0m ):\n\u001b[1;32m--> 218\u001b[0m     result \u001b[39m=\u001b[39m transform_sample(sample, pipeline)\n\u001b[0;32m    219\u001b[0m     \u001b[39mif\u001b[39;00m is_empty_transform_dataset(result):\n\u001b[0;32m    220\u001b[0m         \u001b[39mreturn\u001b[39;00m\n",
      "File \u001b[1;32mf:\\ProgramData\\miniconda3\\envs\\github-qa-langchain\\lib\\site-packages\\deeplake\\util\\transform.py:85\u001b[0m, in \u001b[0;36mtransform_sample\u001b[1;34m(sample, pipeline)\u001b[0m\n\u001b[0;32m     83\u001b[0m \u001b[39melse\u001b[39;00m:\n\u001b[0;32m     84\u001b[0m     samples_out \u001b[39m=\u001b[39m TransformDataset()\n\u001b[1;32m---> 85\u001b[0m     fn(result, samples_out, \u001b[39m*\u001b[39margs, \u001b[39m*\u001b[39m\u001b[39m*\u001b[39mkwargs)\n\u001b[0;32m     86\u001b[0m     validate_transform_dataset(samples_out)\n\u001b[0;32m     87\u001b[0m     result \u001b[39m=\u001b[39m samples_out\n",
      "File \u001b[1;32mf:\\ProgramData\\miniconda3\\envs\\github-qa-langchain\\lib\\site-packages\\langchain\\vectorstores\\deeplake.py:202\u001b[0m, in \u001b[0;36mDeepLake.add_texts.<locals>.ingest\u001b[1;34m(sample_in, sample_out)\u001b[0m\n\u001b[0;32m    199\u001b[0m embeds: Sequence[Optional[np\u001b[39m.\u001b[39mndarray]] \u001b[39m=\u001b[39m []\n\u001b[0;32m    201\u001b[0m \u001b[39mif\u001b[39;00m \u001b[39mself\u001b[39m\u001b[39m.\u001b[39m_embedding_function \u001b[39mis\u001b[39;00m \u001b[39mnot\u001b[39;00m \u001b[39mNone\u001b[39;00m:\n\u001b[1;32m--> 202\u001b[0m     embeddings \u001b[39m=\u001b[39m \u001b[39mself\u001b[39;49m\u001b[39m.\u001b[39;49m_embedding_function\u001b[39m.\u001b[39;49membed_documents(text_list)\n\u001b[0;32m    203\u001b[0m     embeds \u001b[39m=\u001b[39m [np\u001b[39m.\u001b[39marray(e, dtype\u001b[39m=\u001b[39mnp\u001b[39m.\u001b[39mfloat32) \u001b[39mfor\u001b[39;00m e \u001b[39min\u001b[39;00m embeddings]\n\u001b[0;32m    204\u001b[0m \u001b[39melse\u001b[39;00m:\n",
      "File \u001b[1;32mf:\\ProgramData\\miniconda3\\envs\\github-qa-langchain\\lib\\site-packages\\langchain\\embeddings\\huggingface.py:71\u001b[0m, in \u001b[0;36mHuggingFaceEmbeddings.embed_documents\u001b[1;34m(self, texts)\u001b[0m\n\u001b[0;32m     62\u001b[0m \u001b[39m\u001b[39m\u001b[39m\"\"\"Compute doc embeddings using a HuggingFace transformer model.\u001b[39;00m\n\u001b[0;32m     63\u001b[0m \n\u001b[0;32m     64\u001b[0m \u001b[39mArgs:\u001b[39;00m\n\u001b[1;32m   (...)\u001b[0m\n\u001b[0;32m     68\u001b[0m \u001b[39m    List of embeddings, one for each text.\u001b[39;00m\n\u001b[0;32m     69\u001b[0m \u001b[39m\"\"\"\u001b[39;00m\n\u001b[0;32m     70\u001b[0m texts \u001b[39m=\u001b[39m \u001b[39mlist\u001b[39m(\u001b[39mmap\u001b[39m(\u001b[39mlambda\u001b[39;00m x: x\u001b[39m.\u001b[39mreplace(\u001b[39m\"\u001b[39m\u001b[39m\\n\u001b[39;00m\u001b[39m\"\u001b[39m, \u001b[39m\"\u001b[39m\u001b[39m \u001b[39m\u001b[39m\"\u001b[39m), texts))\n\u001b[1;32m---> 71\u001b[0m embeddings \u001b[39m=\u001b[39m \u001b[39mself\u001b[39;49m\u001b[39m.\u001b[39;49mclient\u001b[39m.\u001b[39;49mencode(texts)\n\u001b[0;32m     72\u001b[0m \u001b[39mreturn\u001b[39;00m embeddings\u001b[39m.\u001b[39mtolist()\n",
      "File \u001b[1;32mf:\\ProgramData\\miniconda3\\envs\\github-qa-langchain\\lib\\site-packages\\sentence_transformers\\SentenceTransformer.py:188\u001b[0m, in \u001b[0;36mSentenceTransformer.encode\u001b[1;34m(self, sentences, batch_size, show_progress_bar, output_value, convert_to_numpy, convert_to_tensor, device, normalize_embeddings)\u001b[0m\n\u001b[0;32m    186\u001b[0m             \u001b[39m# fixes for #522 and #487 to avoid oom problems on gpu with large datasets\u001b[39;00m\n\u001b[0;32m    187\u001b[0m             \u001b[39mif\u001b[39;00m convert_to_numpy:\n\u001b[1;32m--> 188\u001b[0m                 embeddings \u001b[39m=\u001b[39m embeddings\u001b[39m.\u001b[39;49mcpu()\n\u001b[0;32m    190\u001b[0m         all_embeddings\u001b[39m.\u001b[39mextend(embeddings)\n\u001b[0;32m    192\u001b[0m all_embeddings \u001b[39m=\u001b[39m [all_embeddings[idx] \u001b[39mfor\u001b[39;00m idx \u001b[39min\u001b[39;00m np\u001b[39m.\u001b[39margsort(length_sorted_idx)]\n",
      "\u001b[1;31mKeyboardInterrupt\u001b[0m: "
     ]
    }
   ],
   "source": [
    "import deeplake\n",
    "db = DeepLake.from_documents(content_source, embeddings, dataset_path=f\"mem://{database_name}\")"
   ]
  },
  {
   "cell_type": "code",
   "execution_count": 51,
   "metadata": {},
   "outputs": [
    {
     "name": "stdout",
     "output_type": "stream",
     "text": [
      "mem://ramana_talks loaded successfully.\n"
     ]
    },
    {
     "name": "stderr",
     "output_type": "stream",
     "text": []
    }
   ],
   "source": [
    "db = DeepLake(dataset_path=f\"mem://{database_name}\", read_only=True, embedding_function=embeddings)"
   ]
  },
  {
   "attachments": {},
   "cell_type": "markdown",
   "metadata": {},
   "source": [
    "## Remote storage\n",
    "\n",
    "Uses Activeloop API"
   ]
  },
  {
   "cell_type": "code",
   "execution_count": null,
   "metadata": {},
   "outputs": [],
   "source": [
    "os.environ['ACTIVELOOP_TOKEN'] = 'xxxxxxxxxxxxx.xxxx.xxxxxxxxxxxxx'\n",
    "db = DeepLake.from_documents(content_source, embeddings, dataset_path=f\"hub://deadbranches/{database_name}\")"
   ]
  },
  {
   "cell_type": "code",
   "execution_count": null,
   "metadata": {},
   "outputs": [],
   "source": [
    "db = DeepLake(dataset_path=f\"hub://deadbranches/{database_name}\", read_only=True, embedding_function=embeddings)"
   ]
  },
  {
   "attachments": {},
   "cell_type": "markdown",
   "metadata": {},
   "source": [
    "## Visualize data"
   ]
  },
  {
   "cell_type": "markdown",
   "metadata": {},
   "source": [
    "### 2. Question Answering on Twitter algorithm codebase\n",
    "First load the dataset, construct the retriever, then construct the Conversational Chain"
   ]
  },
  {
   "cell_type": "code",
   "execution_count": 46,
   "metadata": {},
   "outputs": [],
   "source": [
    "\n",
    "retriever = db.as_retriever()\n",
    "retriever.search_kwargs['distance_metric'] = 'dot'\n",
    "retriever.search_kwargs['fetch_k'] = 100\n",
    "retriever.search_kwargs['maximal_marginal_relevance'] = True\n",
    "retriever.search_kwargs['k'] = 20"
   ]
  },
  {
   "cell_type": "code",
   "execution_count": 54,
   "metadata": {},
   "outputs": [
    {
     "ename": "ValueError",
     "evalue": "shapes (768,) and (0,) not aligned: 768 (dim 0) != 0 (dim 0)",
     "output_type": "error",
     "traceback": [
      "\u001b[1;31m---------------------------------------------------------------------------\u001b[0m",
      "\u001b[1;31mValueError\u001b[0m                                Traceback (most recent call last)",
      "Cell \u001b[1;32mIn[54], line 4\u001b[0m\n\u001b[0;32m      1\u001b[0m \u001b[39mimport\u001b[39;00m \u001b[39mjson\u001b[39;00m\n\u001b[0;32m      2\u001b[0m \u001b[39mfrom\u001b[39;00m \u001b[39mlangchain\u001b[39;00m\u001b[39m.\u001b[39;00m\u001b[39mschema\u001b[39;00m \u001b[39mimport\u001b[39;00m Document\n\u001b[1;32m----> 4\u001b[0m results \u001b[39m=\u001b[39m db\u001b[39m.\u001b[39;49msimilarity_search(\u001b[39m'\u001b[39;49m\u001b[39mWhat did the president say about Ketanji Brown Jackson?\u001b[39;49m\u001b[39m'\u001b[39;49m, distance_metric\u001b[39m=\u001b[39;49m\u001b[39m'\u001b[39;49m\u001b[39mdot\u001b[39;49m\u001b[39m'\u001b[39;49m, k\u001b[39m=\u001b[39;49m\u001b[39m4\u001b[39;49m)\n\u001b[0;32m      6\u001b[0m \u001b[39mprint\u001b[39m(\u001b[39m\"\u001b[39m\u001b[39mclass:\u001b[39m\u001b[39m\"\u001b[39m, \u001b[39mtype\u001b[39m(results)\u001b[39m.\u001b[39m\u001b[39m__name__\u001b[39m)\n\u001b[0;32m      7\u001b[0m \u001b[39mprint\u001b[39m(\u001b[39m\"\u001b[39m\u001b[39m[\u001b[39m\u001b[39m\"\u001b[39m)\n",
      "File \u001b[1;32mf:\\ProgramData\\miniconda3\\envs\\github-qa-langchain\\lib\\site-packages\\langchain\\vectorstores\\deeplake.py:350\u001b[0m, in \u001b[0;36mDeepLake.similarity_search\u001b[1;34m(self, query, k, **kwargs)\u001b[0m\n\u001b[0;32m    322\u001b[0m \u001b[39mdef\u001b[39;00m \u001b[39msimilarity_search\u001b[39m(\n\u001b[0;32m    323\u001b[0m     \u001b[39mself\u001b[39m, query: \u001b[39mstr\u001b[39m, k: \u001b[39mint\u001b[39m \u001b[39m=\u001b[39m \u001b[39m4\u001b[39m, \u001b[39m*\u001b[39m\u001b[39m*\u001b[39mkwargs: Any\n\u001b[0;32m    324\u001b[0m ) \u001b[39m-\u001b[39m\u001b[39m>\u001b[39m List[Document]:\n\u001b[0;32m    325\u001b[0m \u001b[39m    \u001b[39m\u001b[39m\"\"\"Return docs most similar to query.\u001b[39;00m\n\u001b[0;32m    326\u001b[0m \n\u001b[0;32m    327\u001b[0m \u001b[39m    Args:\u001b[39;00m\n\u001b[1;32m   (...)\u001b[0m\n\u001b[0;32m    348\u001b[0m \u001b[39m        List of Documents most similar to the query vector.\u001b[39;00m\n\u001b[0;32m    349\u001b[0m \u001b[39m    \"\"\"\u001b[39;00m\n\u001b[1;32m--> 350\u001b[0m     \u001b[39mreturn\u001b[39;00m \u001b[39mself\u001b[39m\u001b[39m.\u001b[39msearch(query\u001b[39m=\u001b[39mquery, k\u001b[39m=\u001b[39mk, \u001b[39m*\u001b[39m\u001b[39m*\u001b[39mkwargs)\n",
      "File \u001b[1;32mf:\\ProgramData\\miniconda3\\envs\\github-qa-langchain\\lib\\site-packages\\langchain\\vectorstores\\deeplake.py:294\u001b[0m, in \u001b[0;36mDeepLake.search\u001b[1;34m(self, query, embedding, k, distance_metric, use_maximal_marginal_relevance, fetch_k, filter, return_score, **kwargs)\u001b[0m\n\u001b[0;32m    292\u001b[0m embeddings \u001b[39m=\u001b[39m view\u001b[39m.\u001b[39membedding\u001b[39m.\u001b[39mnumpy(fetch_chunks\u001b[39m=\u001b[39m\u001b[39mTrue\u001b[39;00m)\n\u001b[0;32m    293\u001b[0m k_search \u001b[39m=\u001b[39m fetch_k \u001b[39mif\u001b[39;00m use_maximal_marginal_relevance \u001b[39melse\u001b[39;00m k\n\u001b[1;32m--> 294\u001b[0m indices, scores \u001b[39m=\u001b[39m vector_search(\n\u001b[0;32m    295\u001b[0m     query_emb,\n\u001b[0;32m    296\u001b[0m     embeddings,\n\u001b[0;32m    297\u001b[0m     k\u001b[39m=\u001b[39;49mk_search,\n\u001b[0;32m    298\u001b[0m     distance_metric\u001b[39m=\u001b[39;49mdistance_metric\u001b[39m.\u001b[39;49mlower(),\n\u001b[0;32m    299\u001b[0m )\n\u001b[0;32m    301\u001b[0m view \u001b[39m=\u001b[39m view[indices]\n\u001b[0;32m    302\u001b[0m \u001b[39mif\u001b[39;00m use_maximal_marginal_relevance:\n",
      "File \u001b[1;32mf:\\ProgramData\\miniconda3\\envs\\github-qa-langchain\\lib\\site-packages\\langchain\\vectorstores\\deeplake.py:47\u001b[0m, in \u001b[0;36mvector_search\u001b[1;34m(query_embedding, data_vectors, distance_metric, k)\u001b[0m\n\u001b[0;32m     34\u001b[0m \u001b[39m\u001b[39m\u001b[39m\"\"\"Naive search for nearest neighbors\u001b[39;00m\n\u001b[0;32m     35\u001b[0m \n\u001b[0;32m     36\u001b[0m \u001b[39margs:\u001b[39;00m\n\u001b[1;32m   (...)\u001b[0m\n\u001b[0;32m     44\u001b[0m \u001b[39m    nearest_indices: List, indices of nearest neighbors\u001b[39;00m\n\u001b[0;32m     45\u001b[0m \u001b[39m\"\"\"\u001b[39;00m\n\u001b[0;32m     46\u001b[0m \u001b[39m# Calculate the distance between the query_vector and all data_vectors\u001b[39;00m\n\u001b[1;32m---> 47\u001b[0m distances \u001b[39m=\u001b[39m distance_metric_map[distance_metric](query_embedding, data_vectors)\n\u001b[0;32m     48\u001b[0m nearest_indices \u001b[39m=\u001b[39m np\u001b[39m.\u001b[39margsort(distances)\n\u001b[0;32m     50\u001b[0m nearest_indices \u001b[39m=\u001b[39m (\n\u001b[0;32m     51\u001b[0m     nearest_indices[::\u001b[39m-\u001b[39m\u001b[39m1\u001b[39m][:k] \u001b[39mif\u001b[39;00m distance_metric \u001b[39min\u001b[39;00m [\u001b[39m\"\u001b[39m\u001b[39mcos\u001b[39m\u001b[39m\"\u001b[39m] \u001b[39melse\u001b[39;00m nearest_indices[:k]\n\u001b[0;32m     52\u001b[0m )\n",
      "File \u001b[1;32mf:\\ProgramData\\miniconda3\\envs\\github-qa-langchain\\lib\\site-packages\\langchain\\vectorstores\\deeplake.py:24\u001b[0m, in \u001b[0;36m<lambda>\u001b[1;34m(a, b)\u001b[0m\n\u001b[0;32m     14\u001b[0m \u001b[39mfrom\u001b[39;00m \u001b[39mlangchain\u001b[39;00m\u001b[39m.\u001b[39;00m\u001b[39mvectorstores\u001b[39;00m\u001b[39m.\u001b[39;00m\u001b[39mutils\u001b[39;00m \u001b[39mimport\u001b[39;00m maximal_marginal_relevance\n\u001b[0;32m     16\u001b[0m logger \u001b[39m=\u001b[39m logging\u001b[39m.\u001b[39mgetLogger(\u001b[39m__name__\u001b[39m)\n\u001b[0;32m     18\u001b[0m distance_metric_map \u001b[39m=\u001b[39m {\n\u001b[0;32m     19\u001b[0m     \u001b[39m\"\u001b[39m\u001b[39ml2\u001b[39m\u001b[39m\"\u001b[39m: \u001b[39mlambda\u001b[39;00m a, b: np\u001b[39m.\u001b[39mlinalg\u001b[39m.\u001b[39mnorm(a \u001b[39m-\u001b[39m b, axis\u001b[39m=\u001b[39m\u001b[39m1\u001b[39m, \u001b[39mord\u001b[39m\u001b[39m=\u001b[39m\u001b[39m2\u001b[39m),\n\u001b[0;32m     20\u001b[0m     \u001b[39m\"\u001b[39m\u001b[39ml1\u001b[39m\u001b[39m\"\u001b[39m: \u001b[39mlambda\u001b[39;00m a, b: np\u001b[39m.\u001b[39mlinalg\u001b[39m.\u001b[39mnorm(a \u001b[39m-\u001b[39m b, axis\u001b[39m=\u001b[39m\u001b[39m1\u001b[39m, \u001b[39mord\u001b[39m\u001b[39m=\u001b[39m\u001b[39m1\u001b[39m),\n\u001b[0;32m     21\u001b[0m     \u001b[39m\"\u001b[39m\u001b[39mmax\u001b[39m\u001b[39m\"\u001b[39m: \u001b[39mlambda\u001b[39;00m a, b: np\u001b[39m.\u001b[39mlinalg\u001b[39m.\u001b[39mnorm(a \u001b[39m-\u001b[39m b, axis\u001b[39m=\u001b[39m\u001b[39m1\u001b[39m, \u001b[39mord\u001b[39m\u001b[39m=\u001b[39mnp\u001b[39m.\u001b[39minf),\n\u001b[0;32m     22\u001b[0m     \u001b[39m\"\u001b[39m\u001b[39mcos\u001b[39m\u001b[39m\"\u001b[39m: \u001b[39mlambda\u001b[39;00m a, b: np\u001b[39m.\u001b[39mdot(a, b\u001b[39m.\u001b[39mT)\n\u001b[0;32m     23\u001b[0m     \u001b[39m/\u001b[39m (np\u001b[39m.\u001b[39mlinalg\u001b[39m.\u001b[39mnorm(a) \u001b[39m*\u001b[39m np\u001b[39m.\u001b[39mlinalg\u001b[39m.\u001b[39mnorm(b, axis\u001b[39m=\u001b[39m\u001b[39m1\u001b[39m)),\n\u001b[1;32m---> 24\u001b[0m     \u001b[39m\"\u001b[39m\u001b[39mdot\u001b[39m\u001b[39m\"\u001b[39m: \u001b[39mlambda\u001b[39;00m a, b: np\u001b[39m.\u001b[39;49mdot(a, b\u001b[39m.\u001b[39;49mT),\n\u001b[0;32m     25\u001b[0m }\n\u001b[0;32m     28\u001b[0m \u001b[39mdef\u001b[39;00m \u001b[39mvector_search\u001b[39m(\n\u001b[0;32m     29\u001b[0m     query_embedding: np\u001b[39m.\u001b[39mndarray,\n\u001b[0;32m     30\u001b[0m     data_vectors: np\u001b[39m.\u001b[39mndarray,\n\u001b[0;32m     31\u001b[0m     distance_metric: \u001b[39mstr\u001b[39m \u001b[39m=\u001b[39m \u001b[39m\"\u001b[39m\u001b[39mL2\u001b[39m\u001b[39m\"\u001b[39m,\n\u001b[0;32m     32\u001b[0m     k: Optional[\u001b[39mint\u001b[39m] \u001b[39m=\u001b[39m \u001b[39m4\u001b[39m,\n\u001b[0;32m     33\u001b[0m ) \u001b[39m-\u001b[39m\u001b[39m>\u001b[39m Tuple[List, List]:\n\u001b[0;32m     34\u001b[0m \u001b[39m    \u001b[39m\u001b[39m\"\"\"Naive search for nearest neighbors\u001b[39;00m\n\u001b[0;32m     35\u001b[0m \n\u001b[0;32m     36\u001b[0m \u001b[39m    args:\u001b[39;00m\n\u001b[1;32m   (...)\u001b[0m\n\u001b[0;32m     44\u001b[0m \u001b[39m        nearest_indices: List, indices of nearest neighbors\u001b[39;00m\n\u001b[0;32m     45\u001b[0m \u001b[39m    \"\"\"\u001b[39;00m\n",
      "File \u001b[1;32m<__array_function__ internals>:180\u001b[0m, in \u001b[0;36mdot\u001b[1;34m(*args, **kwargs)\u001b[0m\n",
      "\u001b[1;31mValueError\u001b[0m: shapes (768,) and (0,) not aligned: 768 (dim 0) != 0 (dim 0)"
     ]
    }
   ],
   "source": [
    "import json\n",
    "from langchain.schema import Document\n",
    "\n",
    "results = db.similarity_search('What did the president say about Ketanji Brown Jackson?', distance_metric='dot', k=4)\n",
    "\n",
    "print(\"class:\", type(results).__name__)\n",
    "print(\"[\")\n",
    "for result in results:\n",
    "    print(\"    {\")\n",
    "    print(f\"        'page_content': {json.dumps(result.page_content)},\")\n",
    "    print(f\"        'metadata': {json.dumps(result.metadata)},\")\n",
    "    print(\"    },\")\n",
    "print(\"]\")"
   ]
  },
  {
   "cell_type": "code",
   "execution_count": 53,
   "metadata": {},
   "outputs": [
    {
     "ename": "ValueError",
     "evalue": "shapes (768,) and (0,) not aligned: 768 (dim 0) != 0 (dim 0)",
     "output_type": "error",
     "traceback": [
      "\u001b[1;31m---------------------------------------------------------------------------\u001b[0m",
      "\u001b[1;31mValueError\u001b[0m                                Traceback (most recent call last)",
      "Cell \u001b[1;32mIn[53], line 4\u001b[0m\n\u001b[0;32m      1\u001b[0m query \u001b[39m=\u001b[39m \u001b[39m\"\"\"\u001b[39m\n\u001b[0;32m      2\u001b[0m \u001b[39mHow should I meditate?\u001b[39m\n\u001b[0;32m      3\u001b[0m \u001b[39m\"\"\"\u001b[39m\n\u001b[1;32m----> 4\u001b[0m results \u001b[39m=\u001b[39m db\u001b[39m.\u001b[39;49msimilarity_search(query, distance_metric\u001b[39m=\u001b[39;49m\u001b[39m'\u001b[39;49m\u001b[39mdot\u001b[39;49m\u001b[39m'\u001b[39;49m, k\u001b[39m=\u001b[39;49m\u001b[39m4\u001b[39;49m)\n",
      "File \u001b[1;32mf:\\ProgramData\\miniconda3\\envs\\github-qa-langchain\\lib\\site-packages\\langchain\\vectorstores\\deeplake.py:350\u001b[0m, in \u001b[0;36mDeepLake.similarity_search\u001b[1;34m(self, query, k, **kwargs)\u001b[0m\n\u001b[0;32m    322\u001b[0m \u001b[39mdef\u001b[39;00m \u001b[39msimilarity_search\u001b[39m(\n\u001b[0;32m    323\u001b[0m     \u001b[39mself\u001b[39m, query: \u001b[39mstr\u001b[39m, k: \u001b[39mint\u001b[39m \u001b[39m=\u001b[39m \u001b[39m4\u001b[39m, \u001b[39m*\u001b[39m\u001b[39m*\u001b[39mkwargs: Any\n\u001b[0;32m    324\u001b[0m ) \u001b[39m-\u001b[39m\u001b[39m>\u001b[39m List[Document]:\n\u001b[0;32m    325\u001b[0m \u001b[39m    \u001b[39m\u001b[39m\"\"\"Return docs most similar to query.\u001b[39;00m\n\u001b[0;32m    326\u001b[0m \n\u001b[0;32m    327\u001b[0m \u001b[39m    Args:\u001b[39;00m\n\u001b[1;32m   (...)\u001b[0m\n\u001b[0;32m    348\u001b[0m \u001b[39m        List of Documents most similar to the query vector.\u001b[39;00m\n\u001b[0;32m    349\u001b[0m \u001b[39m    \"\"\"\u001b[39;00m\n\u001b[1;32m--> 350\u001b[0m     \u001b[39mreturn\u001b[39;00m \u001b[39mself\u001b[39m\u001b[39m.\u001b[39msearch(query\u001b[39m=\u001b[39mquery, k\u001b[39m=\u001b[39mk, \u001b[39m*\u001b[39m\u001b[39m*\u001b[39mkwargs)\n",
      "File \u001b[1;32mf:\\ProgramData\\miniconda3\\envs\\github-qa-langchain\\lib\\site-packages\\langchain\\vectorstores\\deeplake.py:294\u001b[0m, in \u001b[0;36mDeepLake.search\u001b[1;34m(self, query, embedding, k, distance_metric, use_maximal_marginal_relevance, fetch_k, filter, return_score, **kwargs)\u001b[0m\n\u001b[0;32m    292\u001b[0m embeddings \u001b[39m=\u001b[39m view\u001b[39m.\u001b[39membedding\u001b[39m.\u001b[39mnumpy(fetch_chunks\u001b[39m=\u001b[39m\u001b[39mTrue\u001b[39;00m)\n\u001b[0;32m    293\u001b[0m k_search \u001b[39m=\u001b[39m fetch_k \u001b[39mif\u001b[39;00m use_maximal_marginal_relevance \u001b[39melse\u001b[39;00m k\n\u001b[1;32m--> 294\u001b[0m indices, scores \u001b[39m=\u001b[39m vector_search(\n\u001b[0;32m    295\u001b[0m     query_emb,\n\u001b[0;32m    296\u001b[0m     embeddings,\n\u001b[0;32m    297\u001b[0m     k\u001b[39m=\u001b[39;49mk_search,\n\u001b[0;32m    298\u001b[0m     distance_metric\u001b[39m=\u001b[39;49mdistance_metric\u001b[39m.\u001b[39;49mlower(),\n\u001b[0;32m    299\u001b[0m )\n\u001b[0;32m    301\u001b[0m view \u001b[39m=\u001b[39m view[indices]\n\u001b[0;32m    302\u001b[0m \u001b[39mif\u001b[39;00m use_maximal_marginal_relevance:\n",
      "File \u001b[1;32mf:\\ProgramData\\miniconda3\\envs\\github-qa-langchain\\lib\\site-packages\\langchain\\vectorstores\\deeplake.py:47\u001b[0m, in \u001b[0;36mvector_search\u001b[1;34m(query_embedding, data_vectors, distance_metric, k)\u001b[0m\n\u001b[0;32m     34\u001b[0m \u001b[39m\u001b[39m\u001b[39m\"\"\"Naive search for nearest neighbors\u001b[39;00m\n\u001b[0;32m     35\u001b[0m \n\u001b[0;32m     36\u001b[0m \u001b[39margs:\u001b[39;00m\n\u001b[1;32m   (...)\u001b[0m\n\u001b[0;32m     44\u001b[0m \u001b[39m    nearest_indices: List, indices of nearest neighbors\u001b[39;00m\n\u001b[0;32m     45\u001b[0m \u001b[39m\"\"\"\u001b[39;00m\n\u001b[0;32m     46\u001b[0m \u001b[39m# Calculate the distance between the query_vector and all data_vectors\u001b[39;00m\n\u001b[1;32m---> 47\u001b[0m distances \u001b[39m=\u001b[39m distance_metric_map[distance_metric](query_embedding, data_vectors)\n\u001b[0;32m     48\u001b[0m nearest_indices \u001b[39m=\u001b[39m np\u001b[39m.\u001b[39margsort(distances)\n\u001b[0;32m     50\u001b[0m nearest_indices \u001b[39m=\u001b[39m (\n\u001b[0;32m     51\u001b[0m     nearest_indices[::\u001b[39m-\u001b[39m\u001b[39m1\u001b[39m][:k] \u001b[39mif\u001b[39;00m distance_metric \u001b[39min\u001b[39;00m [\u001b[39m\"\u001b[39m\u001b[39mcos\u001b[39m\u001b[39m\"\u001b[39m] \u001b[39melse\u001b[39;00m nearest_indices[:k]\n\u001b[0;32m     52\u001b[0m )\n",
      "File \u001b[1;32mf:\\ProgramData\\miniconda3\\envs\\github-qa-langchain\\lib\\site-packages\\langchain\\vectorstores\\deeplake.py:24\u001b[0m, in \u001b[0;36m<lambda>\u001b[1;34m(a, b)\u001b[0m\n\u001b[0;32m     14\u001b[0m \u001b[39mfrom\u001b[39;00m \u001b[39mlangchain\u001b[39;00m\u001b[39m.\u001b[39;00m\u001b[39mvectorstores\u001b[39;00m\u001b[39m.\u001b[39;00m\u001b[39mutils\u001b[39;00m \u001b[39mimport\u001b[39;00m maximal_marginal_relevance\n\u001b[0;32m     16\u001b[0m logger \u001b[39m=\u001b[39m logging\u001b[39m.\u001b[39mgetLogger(\u001b[39m__name__\u001b[39m)\n\u001b[0;32m     18\u001b[0m distance_metric_map \u001b[39m=\u001b[39m {\n\u001b[0;32m     19\u001b[0m     \u001b[39m\"\u001b[39m\u001b[39ml2\u001b[39m\u001b[39m\"\u001b[39m: \u001b[39mlambda\u001b[39;00m a, b: np\u001b[39m.\u001b[39mlinalg\u001b[39m.\u001b[39mnorm(a \u001b[39m-\u001b[39m b, axis\u001b[39m=\u001b[39m\u001b[39m1\u001b[39m, \u001b[39mord\u001b[39m\u001b[39m=\u001b[39m\u001b[39m2\u001b[39m),\n\u001b[0;32m     20\u001b[0m     \u001b[39m\"\u001b[39m\u001b[39ml1\u001b[39m\u001b[39m\"\u001b[39m: \u001b[39mlambda\u001b[39;00m a, b: np\u001b[39m.\u001b[39mlinalg\u001b[39m.\u001b[39mnorm(a \u001b[39m-\u001b[39m b, axis\u001b[39m=\u001b[39m\u001b[39m1\u001b[39m, \u001b[39mord\u001b[39m\u001b[39m=\u001b[39m\u001b[39m1\u001b[39m),\n\u001b[0;32m     21\u001b[0m     \u001b[39m\"\u001b[39m\u001b[39mmax\u001b[39m\u001b[39m\"\u001b[39m: \u001b[39mlambda\u001b[39;00m a, b: np\u001b[39m.\u001b[39mlinalg\u001b[39m.\u001b[39mnorm(a \u001b[39m-\u001b[39m b, axis\u001b[39m=\u001b[39m\u001b[39m1\u001b[39m, \u001b[39mord\u001b[39m\u001b[39m=\u001b[39mnp\u001b[39m.\u001b[39minf),\n\u001b[0;32m     22\u001b[0m     \u001b[39m\"\u001b[39m\u001b[39mcos\u001b[39m\u001b[39m\"\u001b[39m: \u001b[39mlambda\u001b[39;00m a, b: np\u001b[39m.\u001b[39mdot(a, b\u001b[39m.\u001b[39mT)\n\u001b[0;32m     23\u001b[0m     \u001b[39m/\u001b[39m (np\u001b[39m.\u001b[39mlinalg\u001b[39m.\u001b[39mnorm(a) \u001b[39m*\u001b[39m np\u001b[39m.\u001b[39mlinalg\u001b[39m.\u001b[39mnorm(b, axis\u001b[39m=\u001b[39m\u001b[39m1\u001b[39m)),\n\u001b[1;32m---> 24\u001b[0m     \u001b[39m\"\u001b[39m\u001b[39mdot\u001b[39m\u001b[39m\"\u001b[39m: \u001b[39mlambda\u001b[39;00m a, b: np\u001b[39m.\u001b[39;49mdot(a, b\u001b[39m.\u001b[39;49mT),\n\u001b[0;32m     25\u001b[0m }\n\u001b[0;32m     28\u001b[0m \u001b[39mdef\u001b[39;00m \u001b[39mvector_search\u001b[39m(\n\u001b[0;32m     29\u001b[0m     query_embedding: np\u001b[39m.\u001b[39mndarray,\n\u001b[0;32m     30\u001b[0m     data_vectors: np\u001b[39m.\u001b[39mndarray,\n\u001b[0;32m     31\u001b[0m     distance_metric: \u001b[39mstr\u001b[39m \u001b[39m=\u001b[39m \u001b[39m\"\u001b[39m\u001b[39mL2\u001b[39m\u001b[39m\"\u001b[39m,\n\u001b[0;32m     32\u001b[0m     k: Optional[\u001b[39mint\u001b[39m] \u001b[39m=\u001b[39m \u001b[39m4\u001b[39m,\n\u001b[0;32m     33\u001b[0m ) \u001b[39m-\u001b[39m\u001b[39m>\u001b[39m Tuple[List, List]:\n\u001b[0;32m     34\u001b[0m \u001b[39m    \u001b[39m\u001b[39m\"\"\"Naive search for nearest neighbors\u001b[39;00m\n\u001b[0;32m     35\u001b[0m \n\u001b[0;32m     36\u001b[0m \u001b[39m    args:\u001b[39;00m\n\u001b[1;32m   (...)\u001b[0m\n\u001b[0;32m     44\u001b[0m \u001b[39m        nearest_indices: List, indices of nearest neighbors\u001b[39;00m\n\u001b[0;32m     45\u001b[0m \u001b[39m    \"\"\"\u001b[39;00m\n",
      "File \u001b[1;32m<__array_function__ internals>:180\u001b[0m, in \u001b[0;36mdot\u001b[1;34m(*args, **kwargs)\u001b[0m\n",
      "\u001b[1;31mValueError\u001b[0m: shapes (768,) and (0,) not aligned: 768 (dim 0) != 0 (dim 0)"
     ]
    }
   ],
   "source": [
    "query = \"\"\"\n",
    "How should I meditate?\n",
    "\"\"\"\n",
    "results = db.similarity_search(query, distance_metric='dot', k=4)\n",
    "\n",
    "\n",
    "# print(\"class:\", type(results).__name__)\n",
    "for result in results:\n",
    "    print(f\"Source:  {result.metadata['source']} \")\n",
    "    print(\"\\nContent:  \")\n",
    "    page_content = json.dumps(result.page_content).replace('\\\\n', '\\n').replace('\\\\\"', '\"')\n",
    "    print(page_content)\n",
    "    print(\"\\n\\n\")"
   ]
  },
  {
   "cell_type": "markdown",
   "metadata": {},
   "source": [
    "You can also specify user defined functions using [Deep Lake filters](https://docs.deeplake.ai/en/latest/deeplake.core.dataset.html#deeplake.core.dataset.Dataset.filter)"
   ]
  },
  {
   "cell_type": "code",
   "execution_count": 15,
   "metadata": {},
   "outputs": [],
   "source": [
    "def filter(x):\n",
    "    # filter based on source code\n",
    "    # if 'com.google' in x['text'].data()['value']:\n",
    "    #     return False\n",
    "    \n",
    "    # filter based on path e.g. extension\n",
    "    metadata =  x['metadata'].data()['value']\n",
    "    return 'scala' in metadata['source'] or 'py' in metadata['source']\n",
    "\n",
    "### turn on below for custom filtering\n",
    "# retriever.search_kwargs['filter'] = filter"
   ]
  },
  {
   "cell_type": "code",
   "execution_count": 23,
   "metadata": {},
   "outputs": [],
   "source": [
    "os.environ['OPENAI_API_KEY'] = 'sk-xxxxxxxxxxxxxxxxxxxxxxxxxxxxxxxxx'\n",
    "\n",
    "from langchain.chat_models import ChatOpenAI\n",
    "from langchain.chains import ConversationalRetrievalChain\n",
    "\n",
    "import logging\n",
    "\n",
    "logging.basicConfig(level=logging.DEBUG)\n",
    "\n",
    "#model = ChatOpenAI(model='gpt-4') # 'gpt-3.5-turbo',\n",
    "model = ChatOpenAI(model='gpt-3.5-turbo') # 'gpt-3.5-turbo',\n",
    "qa = ConversationalRetrievalChain.from_llm(model,retriever=retriever)"
   ]
  },
  {
   "cell_type": "code",
   "execution_count": 25,
   "metadata": {},
   "outputs": [
    {
     "data": {
      "application/vnd.jupyter.widget-view+json": {
       "model_id": "78407ad8061944abbb6fe41d763e018d",
       "version_major": 2,
       "version_minor": 0
      },
      "text/plain": [
       "Batches:   0%|          | 0/1 [00:00<?, ?it/s]"
      ]
     },
     "metadata": {},
     "output_type": "display_data"
    },
    {
     "name": "stderr",
     "output_type": "stream",
     "text": [
      "DEBUG:openai:message='Request to OpenAI API' method=post path=https://api.openai.com/v1/chat/completions\n",
      "DEBUG:openai:api_version=None data='{\"messages\": [{\"role\": \"system\", \"content\": \"Use the following pieces of context to answer the users question. \\\\nIf you don\\'t know the answer, just say that you don\\'t know, don\\'t try to make up an answer.\\\\n----------------\\\\nHourly Parameter Definition\\\\nThe parameter &hourly= accepts the following values. Most weather variables are given as an instantaneous value for the indicated hour. Some variables like precipitation are calculated from the preceding hour as an average or sum.\\\\n\\\\nHourly Parameter Definition\\\\nThe parameter &hourly= accepts the following values. Most weather variables are given as an instantaneous value for the indicated hour. Some variables like precipitation are calculated from the preceding hour as an average or sum.\\\\n\\\\ndef _default_scripting_text_mapping(\\\\n    dim: int,\\\\n    vector_field: str = \\\\\"vector_field\\\\\",\\\\n) -> Dict:\\\\n    \\\\\"\\\\\"\\\\\"For Painless Scripting or Script Scoring,the default mapping to create index.\\\\\"\\\\\"\\\\\"\\\\n    return {\\\\n        \\\\\"mappings\\\\\": {\\\\n            \\\\\"properties\\\\\": {\\\\n                vector_field: {\\\\\"type\\\\\": \\\\\"knn_vector\\\\\", \\\\\"dimension\\\\\": dim},\\\\n            }\\\\n        }\\\\n    }\\\\n\\\\ndef _default_scripting_text_mapping(\\\\n    dim: int,\\\\n    vector_field: str = \\\\\"vector_field\\\\\",\\\\n) -> Dict:\\\\n    \\\\\"\\\\\"\\\\\"For Painless Scripting or Script Scoring,the default mapping to create index.\\\\\"\\\\\"\\\\\"\\\\n    return {\\\\n        \\\\\"mappings\\\\\": {\\\\n            \\\\\"properties\\\\\": {\\\\n                vector_field: {\\\\\"type\\\\\": \\\\\"knn_vector\\\\\", \\\\\"dimension\\\\\": dim},\\\\n            }\\\\n        }\\\\n    }\\\\n\\\\ndef _default_script_query(\\\\n    query_vector: List[float],\\\\n    space_type: str = \\\\\"l2\\\\\",\\\\n    pre_filter: Dict = MATCH_ALL_QUERY,\\\\n    vector_field: str = \\\\\"vector_field\\\\\",\\\\n) -> Dict:\\\\n    \\\\\"\\\\\"\\\\\"For Script Scoring Search, this is the default query.\\\\\"\\\\\"\\\\\"\\\\n    return {\\\\n        \\\\\"query\\\\\": {\\\\n            \\\\\"script_score\\\\\": {\\\\n                \\\\\"query\\\\\": pre_filter,\\\\n                \\\\\"script\\\\\": {\\\\n                    \\\\\"source\\\\\": \\\\\"knn_score\\\\\",\\\\n                    \\\\\"lang\\\\\": \\\\\"knn\\\\\",\\\\n                    \\\\\"params\\\\\": {\\\\n                        \\\\\"field\\\\\": vector_field,\\\\n                        \\\\\"query_value\\\\\": query_vector,\\\\n                        \\\\\"space_type\\\\\": space_type,\\\\n                    },\\\\n                },\\\\n            }\\\\n        }\\\\n    }\\\\n\\\\ndef _default_script_query(\\\\n    query_vector: List[float],\\\\n    space_type: str = \\\\\"l2\\\\\",\\\\n    pre_filter: Dict = MATCH_ALL_QUERY,\\\\n    vector_field: str = \\\\\"vector_field\\\\\",\\\\n) -> Dict:\\\\n    \\\\\"\\\\\"\\\\\"For Script Scoring Search, this is the default query.\\\\\"\\\\\"\\\\\"\\\\n    return {\\\\n        \\\\\"query\\\\\": {\\\\n            \\\\\"script_score\\\\\": {\\\\n                \\\\\"query\\\\\": pre_filter,\\\\n                \\\\\"script\\\\\": {\\\\n                    \\\\\"source\\\\\": \\\\\"knn_score\\\\\",\\\\n                    \\\\\"lang\\\\\": \\\\\"knn\\\\\",\\\\n                    \\\\\"params\\\\\": {\\\\n                        \\\\\"field\\\\\": vector_field,\\\\n                        \\\\\"query_value\\\\\": query_vector,\\\\n                        \\\\\"space_type\\\\\": space_type,\\\\n                    },\\\\n                },\\\\n            }\\\\n        }\\\\n    }\\\\n\\\\ndef similarity_search_with_score(\\\\n        self, query: str, k: int = 4\\\\n    ) -> List[Tuple[Document, float]]:\\\\n        \\\\\"\\\\\"\\\\\"Return docs most similar to query.\\\\n\\\\n        Args:\\\\n            query: Text to look up documents similar to.\\\\n            k: Number of Documents to return. Defaults to 4.\\\\n\\\\n        Returns:\\\\n            List of Documents most similar to the query and score for each\\\\n        \\\\\"\\\\\"\\\\\"\\\\n        try:\\\\n            from redis.commands.search.query import Query\\\\n        except ImportError:\\\\n            raise ValueError(\\\\n                \\\\\"Could not import redis python package. \\\\\"\\\\n                \\\\\"Please install it with `pip install redis`.\\\\\"\\\\n            )\\\\n\\\\n        # Creates embedding vector from user query\\\\n        embedding = self.embedding_function(query)\\\\n\\\\ndef similarity_search_with_score(\\\\n        self, query: str, k: int = 4\\\\n    ) -> List[Tuple[Document, float]]:\\\\n        \\\\\"\\\\\"\\\\\"Return docs most similar to query.\\\\n\\\\n        Args:\\\\n            query: Text to look up documents similar to.\\\\n            k: Number of Documents to return. Defaults to 4.\\\\n\\\\n        Returns:\\\\n            List of Documents most similar to the query and score for each\\\\n        \\\\\"\\\\\"\\\\\"\\\\n        try:\\\\n            from redis.commands.search.query import Query\\\\n        except ImportError:\\\\n            raise ValueError(\\\\n                \\\\\"Could not import redis python package. \\\\\"\\\\n                \\\\\"Please install it with `pip install redis`.\\\\\"\\\\n            )\\\\n\\\\n        # Creates embedding vector from user query\\\\n        embedding = self.embedding_function(query)\\\\n\\\\nBy default supports Approximate Search.\\\\n        Also supports Script Scoring and Painless Scripting.\\\\n\\\\n        Args:\\\\n            query: Text to look up documents similar to.\\\\n            k: Number of Documents to return. Defaults to 4.\\\\n\\\\n        Returns:\\\\n            List of Documents most similar to the query.\\\\n\\\\n        Optional Args:\\\\n            vector_field: Document field embeddings are stored in. Defaults to\\\\n            \\\\\"vector_field\\\\\".\\\\n\\\\n            text_field: Document field the text of the document is stored in. Defaults\\\\n            to \\\\\"text\\\\\".\\\\n\\\\n            metadata_field: Document field that metadata is stored in. Defaults to\\\\n            \\\\\"metadata\\\\\".\\\\n            Can be set to a special value \\\\\"*\\\\\" to include the entire document.\\\\n\\\\n        Optional Args for Approximate Search:\\\\n            search_type: \\\\\"approximate_search\\\\\"; default: \\\\\"approximate_search\\\\\"\\\\n\\\\n            size: number of results the query actually returns; default: 4\\\\n\\\\nBy default supports Approximate Search.\\\\n        Also supports Script Scoring and Painless Scripting.\\\\n\\\\n        Args:\\\\n            query: Text to look up documents similar to.\\\\n            k: Number of Documents to return. Defaults to 4.\\\\n\\\\n        Returns:\\\\n            List of Documents most similar to the query.\\\\n\\\\n        Optional Args:\\\\n            vector_field: Document field embeddings are stored in. Defaults to\\\\n            \\\\\"vector_field\\\\\".\\\\n\\\\n            text_field: Document field the text of the document is stored in. Defaults\\\\n            to \\\\\"text\\\\\".\\\\n\\\\n            metadata_field: Document field that metadata is stored in. Defaults to\\\\n            \\\\\"metadata\\\\\".\\\\n            Can be set to a special value \\\\\"*\\\\\" to include the entire document.\\\\n\\\\n        Optional Args for Approximate Search:\\\\n            search_type: \\\\\"approximate_search\\\\\"; default: \\\\\"approximate_search\\\\\"\\\\n\\\\n            size: number of results the query actually returns; default: 4\\\\n\\\\ndef print_text(text: str, color: Optional[str] = None, end: str = \\\\\"\\\\\") -> None:\\\\n    \\\\\"\\\\\"\\\\\"Print text with highlighting and no end characters.\\\\\"\\\\\"\\\\\"\\\\n    if color is None:\\\\n        text_to_print = text\\\\n    else:\\\\n        text_to_print = get_colored_text(text, color)\\\\n    print(text_to_print, end=end)\\\\n\\\\ndef print_text(text: str, color: Optional[str] = None, end: str = \\\\\"\\\\\") -> None:\\\\n    \\\\\"\\\\\"\\\\\"Print text with highlighting and no end characters.\\\\\"\\\\\"\\\\\"\\\\n    if color is None:\\\\n        text_to_print = text\\\\n    else:\\\\n        text_to_print = get_colored_text(text, color)\\\\n    print(text_to_print, end=end)\\\\n\\\\nOptional Args for Script Scoring Search:\\\\n            search_type: \\\\\"script_scoring\\\\\"; default: \\\\\"approximate_search\\\\\"\\\\n\\\\n            space_type: \\\\\"l2\\\\\", \\\\\"l1\\\\\", \\\\\"linf\\\\\", \\\\\"cosinesimil\\\\\", \\\\\"innerproduct\\\\\",\\\\n            \\\\\"hammingbit\\\\\"; default: \\\\\"l2\\\\\"\\\\n\\\\n            pre_filter: script_score query to pre-filter documents before identifying\\\\n            nearest neighbors; default: {\\\\\"match_all\\\\\": {}}\\\\n\\\\n        Optional Args for Painless Scripting Search:\\\\n            search_type: \\\\\"painless_scripting\\\\\"; default: \\\\\"approximate_search\\\\\"\\\\n\\\\n            space_type: \\\\\"l2Squared\\\\\", \\\\\"l1Norm\\\\\", \\\\\"cosineSimilarity\\\\\"; default: \\\\\"l2Squared\\\\\"\\\\n\\\\nOptional Args for Script Scoring Search:\\\\n            search_type: \\\\\"script_scoring\\\\\"; default: \\\\\"approximate_search\\\\\"\\\\n\\\\n            space_type: \\\\\"l2\\\\\", \\\\\"l1\\\\\", \\\\\"linf\\\\\", \\\\\"cosinesimil\\\\\", \\\\\"innerproduct\\\\\",\\\\n            \\\\\"hammingbit\\\\\"; default: \\\\\"l2\\\\\"\\\\n\\\\n            pre_filter: script_score query to pre-filter documents before identifying\\\\n            nearest neighbors; default: {\\\\\"match_all\\\\\": {}}\\\\n\\\\n        Optional Args for Painless Scripting Search:\\\\n            search_type: \\\\\"painless_scripting\\\\\"; default: \\\\\"approximate_search\\\\\"\\\\n\\\\n            space_type: \\\\\"l2Squared\\\\\", \\\\\"l1Norm\\\\\", \\\\\"cosineSimilarity\\\\\"; default: \\\\\"l2Squared\\\\\"\\\\n\\\\nReturns:\\\\n            bool: Whether or not the drop was successful.\\\\n        \\\\\"\\\\\"\\\\\"\\\\n        redis_url = get_from_dict_or_env(kwargs, \\\\\"redis_url\\\\\", \\\\\"REDIS_URL\\\\\")\\\\n        try:\\\\n            import redis\\\\n        except ImportError:\\\\n            raise ValueError(\\\\n                \\\\\"Could not import redis python package. \\\\\"\\\\n                \\\\\"Please install it with `pip install redis`.\\\\\"\\\\n            )\\\\n        try:\\\\n            # We need to first remove redis_url from kwargs,\\\\n            # otherwise passing it to Redis will result in an error.\\\\n            kwargs.pop(\\\\\"redis_url\\\\\")\\\\n            client = redis.from_url(url=redis_url, **kwargs)\\\\n        except ValueError as e:\\\\n            raise ValueError(f\\\\\"Your redis connected error: {e}\\\\\")\\\\n        # Check if index exists\\\\n        try:\\\\n            client.ft(index_name).dropindex(delete_documents)\\\\n            logger.info(\\\\\"Drop index\\\\\")\\\\n            return True\\\\n        except:  # noqa: E722\\\\n            # Index not exist\\\\n            return False\\\\n\\\\nReturns:\\\\n            bool: Whether or not the drop was successful.\\\\n        \\\\\"\\\\\"\\\\\"\\\\n        redis_url = get_from_dict_or_env(kwargs, \\\\\"redis_url\\\\\", \\\\\"REDIS_URL\\\\\")\\\\n        try:\\\\n            import redis\\\\n        except ImportError:\\\\n            raise ValueError(\\\\n                \\\\\"Could not import redis python package. \\\\\"\\\\n                \\\\\"Please install it with `pip install redis`.\\\\\"\\\\n            )\\\\n        try:\\\\n            # We need to first remove redis_url from kwargs,\\\\n            # otherwise passing it to Redis will result in an error.\\\\n            kwargs.pop(\\\\\"redis_url\\\\\")\\\\n            client = redis.from_url(url=redis_url, **kwargs)\\\\n        except ValueError as e:\\\\n            raise ValueError(f\\\\\"Your redis connected error: {e}\\\\\")\\\\n        # Check if index exists\\\\n        try:\\\\n            client.ft(index_name).dropindex(delete_documents)\\\\n            logger.info(\\\\\"Drop index\\\\\")\\\\n            return True\\\\n        except:  # noqa: E722\\\\n            # Index not exist\\\\n            return False\\\\n\\\\ndef _get_driver(self) -> Union[\\\\\"Chrome\\\\\", \\\\\"Firefox\\\\\"]:\\\\n        \\\\\"\\\\\"\\\\\"Create and return a WebDriver instance based on the specified browser.\\\\n\\\\n        Raises:\\\\n            ValueError: If an invalid browser is specified.\\\\n\\\\n        Returns:\\\\n            Union[Chrome, Firefox]: A WebDriver instance for the specified browser.\\\\n        \\\\\"\\\\\"\\\\\"\\\\n        if self.browser.lower() == \\\\\"chrome\\\\\":\\\\n            from selenium.webdriver import Chrome\\\\n            from selenium.webdriver.chrome.options import Options as ChromeOptions\\\\n\\\\ndef _get_driver(self) -> Union[\\\\\"Chrome\\\\\", \\\\\"Firefox\\\\\"]:\\\\n        \\\\\"\\\\\"\\\\\"Create and return a WebDriver instance based on the specified browser.\\\\n\\\\n        Raises:\\\\n            ValueError: If an invalid browser is specified.\\\\n\\\\n        Returns:\\\\n            Union[Chrome, Firefox]: A WebDriver instance for the specified browser.\\\\n        \\\\\"\\\\\"\\\\\"\\\\n        if self.browser.lower() == \\\\\"chrome\\\\\":\\\\n            from selenium.webdriver import Chrome\\\\n            from selenium.webdriver.chrome.options import Options as ChromeOptions\\\\n\\\\nelse:\\\\n            toret = \\\\\"No good search result found\\\\\"\\\\n        return toret\\\\n\\\\nelse:\\\\n            toret = \\\\\"No good search result found\\\\\"\\\\n        return toret\"}, {\"role\": \"user\", \"content\": \"How do I load a 4bit quantized LLaMA model into langchain for inference tasks? The model was quantized using GPTQ, and has a group size of 128?\"}], \"model\": \"gpt-3.5-turbo\", \"max_tokens\": null, \"stream\": false, \"n\": 1, \"temperature\": 0.7}' message='Post details'\n",
      "DEBUG:urllib3.connectionpool:https://api.openai.com:443 \"POST /v1/chat/completions HTTP/1.1\" 200 None\n",
      "DEBUG:openai:message='OpenAI API response' path=https://api.openai.com/v1/chat/completions processing_ms=4838 request_id=3111b5c1c9fe6d25c9d28525dc37bd8f response_code=200\n"
     ]
    },
    {
     "name": "stdout",
     "output_type": "stream",
     "text": [
      "-> **Question**: How do I load a 4bit quantized LLaMA model into langchain for inference tasks? The model was quantized using GPTQ, and has a group size of 128? \n",
      "\n",
      "**Answer**: I'm sorry, but I am not familiar with the Langchain framework or with the GPTQ quantization method. Without more information, I cannot provide an accurate answer to your question. Can you provide more details or context about what you are trying to do? \n",
      "\n"
     ]
    }
   ],
   "source": [
    "questions = [\n",
    "    \"How do I load a 4bit quantized LLaMA model into langchain for inference tasks? The model was quantized using GPTQ, and has a group size of 128?\",\n",
    "] \n",
    "chat_history = []\n",
    "\n",
    "# for question in questions:  \n",
    "#     result = qa({\"question\": question, \"chat_history\": chat_history})\n",
    "#     print(result)\n",
    "\n",
    "for question in questions:  \n",
    "    result = qa({\"question\": question, \"chat_history\": chat_history})\n",
    "    chat_history.append((question, result['answer']))\n",
    "    print(f\"-> **Question**: {question} \\n\")\n",
    "    print(f\"**Answer**: {result['answer']} \\n\")\n"
   ]
  },
  {
   "cell_type": "markdown",
   "metadata": {},
   "source": []
  }
 ],
 "metadata": {
  "kernelspec": {
   "display_name": "Python 3 (ipykernel)",
   "language": "python",
   "name": "python3"
  },
  "language_info": {
   "codemirror_mode": {
    "name": "ipython",
    "version": 3
   },
   "file_extension": ".py",
   "mimetype": "text/x-python",
   "name": "python",
   "nbconvert_exporter": "python",
   "pygments_lexer": "ipython3",
   "version": "3.9.16"
  }
 },
 "nbformat": 4,
 "nbformat_minor": 2
}
