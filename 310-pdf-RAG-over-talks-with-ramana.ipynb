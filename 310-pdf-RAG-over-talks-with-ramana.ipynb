{
 "cells": [
  {
   "cell_type": "markdown",
   "metadata": {},
   "source": [
    "# Analysis of Twitter the-algorithm source code with LangChain, GPT4 and Deep Lake\n",
    "In this tutorial, we are going to use Langchain + Deep Lake with GPT4 to analyze the code base of the twitter algorithm. "
   ]
  },
  {
   "attachments": {},
   "cell_type": "markdown",
   "metadata": {},
   "source": [
    "Define OpenAI embeddings, Deep Lake multi-modal vector store api and authenticate. For full documentation of Deep Lake please follow [docs](https://docs.activeloop.ai/) and [API reference](https://docs.deeplake.ai/en/latest/).\n",
    "\n",
    "Authenticate into Deep Lake if you want to create your own dataset and publish it. You can get an API key from the [platform](https://app.activeloop.ai)"
   ]
  },
  {
   "cell_type": "code",
   "execution_count": 4,
   "metadata": {},
   "outputs": [],
   "source": [
    "import re"
   ]
  },
  {
   "cell_type": "code",
   "execution_count": null,
   "metadata": {},
   "outputs": [],
   "source": [
    "TRANSFORMERS_CACHE=\"/f/C/cache/huggingface/hub\""
   ]
  },
  {
   "cell_type": "code",
   "execution_count": 1,
   "metadata": {},
   "outputs": [],
   "source": [
    "import os\n",
    "import tqdm as notebook_tqdm\n",
    "from langchain.embeddings import HuggingFaceEmbeddings\n",
    "from langchain.vectorstores import DeepLake\n",
    "\n",
    "os.environ['TRANSFORMERS_CACHE'] = 'F:\\C\\cache\\huggingface\\hub'\n",
    "os.environ['ACTIVELOOP_TOKEN'] = 'xxxxxxxxxxxxxxxxxxxxxxxxxxxxxxxxxxxxx'\n",
    "\n",
    "model_name = \"sentence-transformers/multi-qa-mpnet-base-dot-v1\"\n",
    "embeddings = HuggingFaceEmbeddings(model_name=model_name)"
   ]
  },
  {
   "cell_type": "markdown",
   "metadata": {},
   "source": [
    "Load all files inside the repository"
   ]
  },
  {
   "cell_type": "code",
   "execution_count": 2,
   "metadata": {},
   "outputs": [],
   "source": [
    "from langchain.document_loaders import PyPDFLoader\n",
    "import tiktoken\n",
    "\n",
    "root_dir = '../sources-repositories/langchain'  # Declare root directory variable\n",
    "docs = []  # Create empty list for documents\n",
    "\n",
    "pdf_loader = PyPDFLoader('..sources-documents/Talks-with-Sri-Ramana-Maharshi--complete.pdf')  # Use PDFLoader to load and split the PDF file's content\n",
    "docs.extend(pdf_loader.load()) # just load, don't split"
   ]
  },
  {
   "cell_type": "code",
   "execution_count": 5,
   "metadata": {},
   "outputs": [
    {
     "name": "stdout",
     "output_type": "stream",
     "text": [
      "page_content='31Talks with Sri Ramana Maharshi\\n(a) Is omniscience of God consistent with ego’s freewill?\\n(b) Is omnipotence of God consistent with ego’s freewill?\\n(c) Are the natural laws consistent with God’s free-will?\\nM.: Yes. Free-will is the present appearing to a limited faculty of \\nsight and will. The same ego sees its past activity as falling into a \\ncourse of ‘law’ or rules - its own free-will being one of the links \\nin that course of law.\\nOmnipotence and omniscience of God are then seen by the ego to \\nhave acted through the appearance of his own free-will. So he comes \\nto the conclusion that the ego must go by appearances. Natural laws \\nare manifestations of God’s will and they have been laid down.\\nD.: Is the study of science, psychology, physiology, philosophy, etc. \\nhelpful for:-\\n(1) this art of yoga-liberation.\\n(2) the intuitive grasp of the unity of the Real?\\nM.: Very little. Some knowledge is needed for yoga and it may be \\nfound in books. But practical application is the thing needed, and \\npersonal example, personal touch and personal instructions are the \\nmost helpful aids. As for the other, a person may laboriously convince \\nhimself of the truth to be intuited, i.e., its function and nature, but the \\nactual intuition is akin to feeling and requires practice and personal \\ncontact. Mere book learning is not of any great use. After realisation \\nall intellectual loads are useless burdens and are thrown overboard \\nas jetsam. Jettisoning the ego is necessary and natural.\\nD.: How does dream differ from waking?\\nM.: In dreams one takes on different bodies, and they re-enter this \\nbody when one dreams of sense-contacts.\\nD.: What is happiness? Is it inhering in the Atman or in the object, or \\nin the contact between the subject and the object? But we do not \\nsee happiness in our affairs. When does It actually arise?\\nM.: When there is contact of a desirable sort or memory thereof, \\nand when there is freedom from undesirable contacts or memory \\nthereof, we say there is happiness. Such happiness is relative and \\nis better called pleasure.' metadata={'source': '../Talks-with-Sri-Ramana-Maharshi--complete.pdf', 'page': 40}\n"
     ]
    },
    {
     "ename": "TypeError",
     "evalue": "expected string or bytes-like object",
     "output_type": "error",
     "traceback": [
      "\u001b[1;31m---------------------------------------------------------------------------\u001b[0m",
      "\u001b[1;31mTypeError\u001b[0m                                 Traceback (most recent call last)",
      "Cell \u001b[1;32mIn[5], line 4\u001b[0m\n\u001b[0;32m      1\u001b[0m \u001b[39mlen\u001b[39m(docs) \u001b[39m# number of processed document pages\u001b[39;00m\n\u001b[0;32m      2\u001b[0m \u001b[39mprint\u001b[39m(docs[\u001b[39m40\u001b[39m])\n\u001b[1;32m----> 4\u001b[0m pg_40 \u001b[39m=\u001b[39m re\u001b[39m.\u001b[39;49msub(\u001b[39mr\u001b[39;49m\u001b[39m'\u001b[39;49m\u001b[39m\\\u001b[39;49m\u001b[39md\u001b[39;49m\u001b[39m{\u001b[39;49m\u001b[39m1,3}Talks with Sri Ramana Maharshi\u001b[39;49m\u001b[39m\\\u001b[39;49m\u001b[39mn\u001b[39;49m\u001b[39m'\u001b[39;49m, \u001b[39m'\u001b[39;49m\u001b[39m'\u001b[39;49m, docs[\u001b[39m40\u001b[39;49m])\n\u001b[0;32m      5\u001b[0m \u001b[39mprint\u001b[39m(pg_40)\n",
      "File \u001b[1;32mf:\\ProgramData\\miniconda3\\envs\\github-qa-langchain\\lib\\re.py:210\u001b[0m, in \u001b[0;36msub\u001b[1;34m(pattern, repl, string, count, flags)\u001b[0m\n\u001b[0;32m    203\u001b[0m \u001b[39mdef\u001b[39;00m \u001b[39msub\u001b[39m(pattern, repl, string, count\u001b[39m=\u001b[39m\u001b[39m0\u001b[39m, flags\u001b[39m=\u001b[39m\u001b[39m0\u001b[39m):\n\u001b[0;32m    204\u001b[0m \u001b[39m    \u001b[39m\u001b[39m\"\"\"Return the string obtained by replacing the leftmost\u001b[39;00m\n\u001b[0;32m    205\u001b[0m \u001b[39m    non-overlapping occurrences of the pattern in string by the\u001b[39;00m\n\u001b[0;32m    206\u001b[0m \u001b[39m    replacement repl.  repl can be either a string or a callable;\u001b[39;00m\n\u001b[0;32m    207\u001b[0m \u001b[39m    if a string, backslash escapes in it are processed.  If it is\u001b[39;00m\n\u001b[0;32m    208\u001b[0m \u001b[39m    a callable, it's passed the Match object and must return\u001b[39;00m\n\u001b[0;32m    209\u001b[0m \u001b[39m    a replacement string to be used.\"\"\"\u001b[39;00m\n\u001b[1;32m--> 210\u001b[0m     \u001b[39mreturn\u001b[39;00m _compile(pattern, flags)\u001b[39m.\u001b[39;49msub(repl, string, count)\n",
      "\u001b[1;31mTypeError\u001b[0m: expected string or bytes-like object"
     ]
    }
   ],
   "source": [
    "len(docs) # number of processed document pages\n",
    "print(docs[40]) # returns 31Talks with Sri Ramana Maharshi\\n(a) Is omniscience of God consis ....\n",
    "\n",
    "# Use regex to remove \"31Talks with Sri Ramana Maharshi\\n\"\n",
    "pg_40 =\n",
    "print(pg_40)"
   ]
  },
  {
   "cell_type": "code",
   "execution_count": 5,
   "metadata": {},
   "outputs": [],
   "source": [
    "import tiktoken\n",
    "\n",
    "tokenizer = tiktoken.get_encoding('cl100k_base')\n",
    "\n",
    "# create the length function\n",
    "def tiktoken_len(text):\n",
    "    tokens = tokenizer.encode(\n",
    "        text,\n",
    "        disallowed_special=()\n",
    "    )\n",
    "    return len(tokens)"
   ]
  },
  {
   "attachments": {},
   "cell_type": "markdown",
   "metadata": {},
   "source": [
    "# Visualizing Token Length in Docs"
   ]
  },
  {
   "cell_type": "code",
   "execution_count": 6,
   "metadata": {},
   "outputs": [
    {
     "name": "stdout",
     "output_type": "stream",
     "text": [
      "Min: 0\n",
      "Avg: 490\n",
      "Max: 812\n"
     ]
    },
    {
     "data": {
      "image/png": "[encoded data removed]",
      "text/plain": [
       "<Figure size 1200x600 with 1 Axes>"
      ]
     },
     "metadata": {},
     "output_type": "display_data"
    }
   ],
   "source": [
    "token_counts = [tiktoken_len(doc.page_content) for doc in docs]\n",
    "\n",
    "print(f\"\"\"Min: {min(token_counts)}\n",
    "Avg: {int(sum(token_counts) / len(token_counts))}\n",
    "Max: {max(token_counts)}\"\"\")\n",
    "\n",
    "import matplotlib.pyplot as plt\n",
    "import seaborn as sns\n",
    "\n",
    "# set style and color palette for the plot\n",
    "sns.set_style(\"whitegrid\")\n",
    "sns.set_palette(\"muted\")\n",
    "\n",
    "# create histogram\n",
    "plt.figure(figsize=(12, 6))\n",
    "sns.histplot(token_counts, kde=False, bins=50)\n",
    "\n",
    "# customize the plot info\n",
    "plt.title(\"Token Counts Histogram\")\n",
    "plt.xlabel(\"Token Count\")\n",
    "plt.ylabel(\"Frequency\")\n",
    "\n",
    "plt.show()"
   ]
  },
  {
   "cell_type": "markdown",
   "metadata": {},
   "source": [
    "Then, chunk the files"
   ]
  },
  {
   "attachments": {},
   "cell_type": "markdown",
   "metadata": {},
   "source": [
    "## New Chunking method"
   ]
  },
  {
   "cell_type": "code",
   "execution_count": 7,
   "metadata": {},
   "outputs": [],
   "source": [
    "from langchain.text_splitter import RecursiveCharacterTextSplitter\n",
    "\n",
    "text_splitter = RecursiveCharacterTextSplitter(\n",
    "    chunk_size=400,\n",
    "    chunk_overlap=20,  # number of tokens overlap between chunks\n",
    "    length_function=tiktoken_len,\n",
    "    separators=['\\n\\n', '\\n', ' ', '']\n",
    ")"
   ]
  },
  {
   "cell_type": "code",
   "execution_count": 14,
   "metadata": {},
   "outputs": [
    {
     "name": "stdout",
     "output_type": "stream",
     "text": [
      "page_content='16Talks with Sri Ramana Maharshi\\nD.: They say that there are many saints in Tibet who remain in solitude \\nand are still very helpful to the world. How can it be?\\nM.: It can be so. Realisation of the Self is the greatest help that can be \\nrendered to humanity. Therefore, the saints are said to be helpful, \\nthough they remain in forests. But it should not be forgotten that \\nsolitude is not in forests only. It can be had even in towns, in the \\nthick of worldly occupations.\\nD.: It is not necessary that the saints should mix with people and be \\nhelpful to them?\\nM.: The Self alone is the Reality; the world and the rest of it are not. The \\nrealised being does not see the world as different from himself.\\nD.: Thus then, the saint’s realisation leads to the uplift of humanity \\nwithout the latter being aware of it. Is it so?\\nM.: Yes. The help is imperceptible but is still there. A saint helps the \\nwhole of humanity, unknown to the latter.\\nD.: Would it not be better if he mixed with others?\\nM.: There are no others to mix with. The Self is the one and only \\nReality.\\nD.: If there be a hundred Self-realised men will it not be to the greater \\nbenefit of the world?\\nM.: When you say ‘Self’ you refer to the unlimited, but when you add \\n‘men’ to it, you limit the meaning. There is only one Infinite Self.\\nD.: Yes, yes, I see! Sri Krishna has said in the Gita that work must \\nbe performed without attachment and such work is better than \\nidleness. Is it Karma Yoga?\\nM.: What is said is given out to suit the temperament of the hearers.\\nD.: In Europe it is not understood by the people that a man in solitude \\ncan be helpful. They imagine that men working in the world can \\nalone be useful. When will this confusion cease? Will the European \\nmind continue wading in the morass or will it realise the truth?\\nM.: Never mind Europe or America. Where are they except in your \\nmind? Realise your Self and then all is realised.\\nIf you dream and see several men, and then wake up and recall \\nyour dream, do you try to ascertain if the persons of your dream \\ncreation are also awake?' metadata={'source': '../Talks-with-Sri-Ramana-Maharshi--complete.pdf', 'page': 25}\n"
     ]
    }
   ],
   "source": [
    "print(docs[25])"
   ]
  },
  {
   "cell_type": "code",
   "execution_count": 10,
   "metadata": {},
   "outputs": [
    {
     "data": {
      "application/vnd.jupyter.widget-view+json": {
       "model_id": "407e501034da4a34920ec1564204411d",
       "version_major": 2,
       "version_minor": 0
      },
      "text/plain": [
       "  0%|          | 0/704 [00:00<?, ?it/s]"
      ]
     },
     "metadata": {},
     "output_type": "display_data"
    }
   ],
   "source": [
    "import hashlib\n",
    "m = hashlib.md5()  # this will convert URL into unique ID\n",
    "\n",
    "from tqdm.auto import tqdm\n",
    "from langchain.docstore.document import Document\n",
    "documents = []\n",
    "\n",
    "for doc in tqdm(docs):\n",
    "    url = doc.metadata['source'].replace('../dev/langchain/langchain\\\\', 'https://github.com/hwchase17/langchain/tree/master/langchain/')\n",
    "    m.update(url.encode('utf-8'))\n",
    "    uid = m.hexdigest()[:12]\n",
    "    chunks = text_splitter.split_text(doc.page_content)\n",
    "    for i, chunk in enumerate(chunks):\n",
    "        documents.append(\n",
    "            Document(\n",
    "                page_content=re.sub(r'\\d{1,3}Talks with Sri Ramana Maharshi\\n', '', chunk),\n",
    "                metadata={\n",
    "                    'id': f'{uid}-{i}',\n",
    "                    'source': url\n",
    "                }\n",
    "            )\n",
    "        )\n",
    "            # {'text': chunk})\n",
    "        # documents.append({\n",
    "        #     'id': f'{uid}-{i}',\n",
    "        #     'text': chunk,\n",
    "        #     'source': url\n",
    "        # })\n",
    "        # documents.extend(f\"id={uid}-{i}\")\n",
    "        # documents.extend('text={chunk}')\n",
    "        # documents.extend('source={url}')\n"
   ]
  },
  {
   "cell_type": "code",
   "execution_count": 15,
   "metadata": {},
   "outputs": [
    {
     "name": "stdout",
     "output_type": "stream",
     "text": [
      "page_content='16Talks with Sri Ramana Maharshi\\nD.: They say that there are many saints in Tibet who remain in solitude \\nand are still very helpful to the world. How can it be?\\nM.: It can be so. Realisation of the Self is the greatest help that can be \\nrendered to humanity. Therefore, the saints are said to be helpful, \\nthough they remain in forests. But it should not be forgotten that \\nsolitude is not in forests only. It can be had even in towns, in the \\nthick of worldly occupations.\\nD.: It is not necessary that the saints should mix with people and be \\nhelpful to them?\\nM.: The Self alone is the Reality; the world and the rest of it are not. The \\nrealised being does not see the world as different from himself.\\nD.: Thus then, the saint’s realisation leads to the uplift of humanity \\nwithout the latter being aware of it. Is it so?\\nM.: Yes. The help is imperceptible but is still there. A saint helps the \\nwhole of humanity, unknown to the latter.\\nD.: Would it not be better if he mixed with others?\\nM.: There are no others to mix with. The Self is the one and only \\nReality.\\nD.: If there be a hundred Self-realised men will it not be to the greater \\nbenefit of the world?\\nM.: When you say ‘Self’ you refer to the unlimited, but when you add \\n‘men’ to it, you limit the meaning. There is only one Infinite Self.\\nD.: Yes, yes, I see! Sri Krishna has said in the Gita that work must \\nbe performed without attachment and such work is better than \\nidleness. Is it Karma Yoga?\\nM.: What is said is given out to suit the temperament of the hearers.\\nD.: In Europe it is not understood by the people that a man in solitude \\ncan be helpful. They imagine that men working in the world can \\nalone be useful. When will this confusion cease? Will the European \\nmind continue wading in the morass or will it realise the truth?\\nM.: Never mind Europe or America. Where are they except in your \\nmind? Realise your Self and then all is realised.\\nIf you dream and see several men, and then wake up and recall \\nyour dream, do you try to ascertain if the persons of your dream \\ncreation are also awake?' metadata={'source': '../Talks-with-Sri-Ramana-Maharshi--complete.pdf', 'page': 25}\n"
     ]
    }
   ],
   "source": [
    "len(documents)\n",
    "print(docs[25])"
   ]
  },
  {
   "cell_type": "code",
   "execution_count": 204,
   "metadata": {},
   "outputs": [
    {
     "name": "stdout",
     "output_type": "stream",
     "text": [
      "page_content='\"\"\"Beta Feature: base interface for cache.\"\"\"\\nimport json\\nfrom abc import ABC, abstractmethod\\nfrom typing import Any, Callable, Dict, List, Optional, Tuple\\n\\nfrom sqlalchemy import Column, Integer, String, create_engine, select\\nfrom sqlalchemy.engine.base import Engine\\nfrom sqlalchemy.orm import Session\\n\\ntry:\\n    from sqlalchemy.orm import declarative_base\\nexcept ImportError:\\n    from sqlalchemy.ext.declarative import declarative_base\\n\\nfrom langchain.schema import Generation\\n\\nRETURN_VAL_TYPE = List[Generation]\\n\\n\\nclass BaseCache(ABC):\\n    \"\"\"Base interface for cache.\"\"\"\\n\\n    @abstractmethod\\n    def lookup(self, prompt: str, llm_string: str) -> Optional[RETURN_VAL_TYPE]:\\n        \"\"\"Look up based on prompt and llm_string.\"\"\"\\n\\n    @abstractmethod\\n    def update(self, prompt: str, llm_string: str, return_val: RETURN_VAL_TYPE) -> None:\\n        \"\"\"Update cache based on prompt and llm_string.\"\"\"\\n\\n\\nclass InMemoryCache(BaseCache):\\n    \"\"\"Cache that stores things in memory.\"\"\"' metadata={'source': '../dev/langchain/langchain\\\\cache.py'}\n",
      "<class 'langchain.schema.Document'>\n",
      "page_content='TALKS \\nWITH \\nSRI RAMANA  MAHARSHI\\nSRI RAMANASRAMAM\\nTiruvannamalai\\n2006' metadata={'id': 'cb9055527713-0', 'source': '../Talks-with-Sri-Ramana-Maharshi--complete.pdf'}\n",
      "<class 'langchain.schema.Document'>\n",
      "\n"
     ]
    }
   ],
   "source": []
  },
  {
   "cell_type": "markdown",
   "metadata": {},
   "source": [
    "Execute the indexing. This will take about ~4 mins to compute embeddings and upload to Activeloop. You can then publish the dataset to be public."
   ]
  },
  {
   "attachments": {},
   "cell_type": "markdown",
   "metadata": {},
   "source": [
    "# Vector Storage"
   ]
  },
  {
   "cell_type": "code",
   "execution_count": 132,
   "metadata": {},
   "outputs": [],
   "source": [
    "database_name = \"langchain_v2\"\n",
    "\n",
    "content_source = documents\n",
    "# content_source = text   # Old chunking method"
   ]
  },
  {
   "attachments": {},
   "cell_type": "markdown",
   "metadata": {},
   "source": [
    "## Create database"
   ]
  },
  {
   "attachments": {},
   "cell_type": "markdown",
   "metadata": {},
   "source": [
    "### Local vector store\n",
    "\n",
    "Stored in RAM"
   ]
  },
  {
   "cell_type": "code",
   "execution_count": 133,
   "metadata": {},
   "outputs": [
    {
     "name": "stderr",
     "output_type": "stream",
     "text": [
      "DEBUG:urllib3.connectionpool:Starting new HTTPS connection (1): spire.bugout.dev:443\n",
      "DEBUG:urllib3.connectionpool:https://spire.bugout.dev:443 \"POST /humbug/reports HTTP/1.1\" 200 0\n"
     ]
    },
    {
     "name": "stdout",
     "output_type": "stream",
     "text": [
      "mem://langchain_v2 loaded successfully.\n"
     ]
    },
    {
     "name": "stderr",
     "output_type": "stream",
     "text": [
      "DEBUG:urllib3.connectionpool:Starting new HTTPS connection (1): spire.bugout.dev:443\n",
      "DEBUG:urllib3.connectionpool:https://spire.bugout.dev:443 \"POST /humbug/reports HTTP/1.1\" 200 0\n",
      "DEBUG:urllib3.connectionpool:Starting new HTTPS connection (1): spire.bugout.dev:443\n",
      "DEBUG:urllib3.connectionpool:https://spire.bugout.dev:443 \"POST /humbug/reports HTTP/1.1\" 200 0\n",
      "DEBUG:urllib3.connectionpool:Starting new HTTPS connection (1): spire.bugout.dev:443\n",
      "DEBUG:urllib3.connectionpool:https://spire.bugout.dev:443 \"POST /humbug/reports HTTP/1.1\" 200 0\n",
      "DEBUG:urllib3.connectionpool:Starting new HTTPS connection (1): spire.bugout.dev:443\n",
      "DEBUG:urllib3.connectionpool:https://spire.bugout.dev:443 \"POST /humbug/reports HTTP/1.1\" 200 0\n",
      "DEBUG:urllib3.connectionpool:Starting new HTTPS connection (1): spire.bugout.dev:443\n",
      "Evaluating ingest: 0%|          | 0/2 [00:00<?"
     ]
    },
    {
     "data": {
      "application/vnd.jupyter.widget-view+json": {
       "model_id": "86c75c6b670e4a5abe5005c58fc87db3",
       "version_major": 2,
       "version_minor": 0
      },
      "text/plain": [
       "Batches:   0%|          | 0/32 [00:00<?, ?it/s]"
      ]
     },
     "metadata": {},
     "output_type": "display_data"
    },
    {
     "name": "stderr",
     "output_type": "stream",
     "text": [
      "DEBUG:urllib3.connectionpool:https://spire.bugout.dev:443 \"POST /humbug/reports HTTP/1.1\" 200 0\n",
      "DEBUG:urllib3.connectionpool:Starting new HTTPS connection (1): spire.bugout.dev:443\n",
      "DEBUG:urllib3.connectionpool:https://spire.bugout.dev:443 \"POST /humbug/reports HTTP/1.1\" 200 0\n",
      "Evaluating ingest: 50%|█████     | 1/2 [00:21<00:21"
     ]
    },
    {
     "data": {
      "application/vnd.jupyter.widget-view+json": {
       "model_id": "3596d967698442ca8c805ad437fa9c45",
       "version_major": 2,
       "version_minor": 0
      },
      "text/plain": [
       "Batches:   0%|          | 0/11 [00:00<?, ?it/s]"
      ]
     },
     "metadata": {},
     "output_type": "display_data"
    },
    {
     "name": "stderr",
     "output_type": "stream",
     "text": [
      "Evaluating ingest: 100%|██████████| 2/2 [00:32<00:00\n",
      "DEBUG:urllib3.connectionpool:Starting new HTTPS connection (1): spire.bugout.dev:443\n",
      "DEBUG:urllib3.connectionpool:https://spire.bugout.dev:443 \"POST /humbug/reports HTTP/1.1\" 200 0\n"
     ]
    },
    {
     "name": "stdout",
     "output_type": "stream",
     "text": [
      "Dataset(path='mem://langchain_v2', tensors=['embedding', 'ids', 'metadata', 'text'])\n",
      "\n",
      "  tensor     htype      shape      dtype  compression\n",
      "  -------   -------    -------    -------  ------- \n",
      " embedding  generic  (1352, 768)  float32   None   \n",
      "    ids      text     (1352, 1)     str     None   \n",
      " metadata    json     (1352, 1)     str     None   \n",
      "   text      text     (1352, 1)     str     None   \n"
     ]
    },
    {
     "name": "stderr",
     "output_type": "stream",
     "text": []
    }
   ],
   "source": [
    "import deeplake\n",
    "db = DeepLake.from_documents(content_source, embeddings, dataset_path=f\"mem://{database_name}\")"
   ]
  },
  {
   "attachments": {},
   "cell_type": "markdown",
   "metadata": {},
   "source": [
    "### Remote storage\n",
    "\n",
    "Uses Activeloop API"
   ]
  },
  {
   "cell_type": "code",
   "execution_count": null,
   "metadata": {},
   "outputs": [],
   "source": [
    "os.environ['ACTIVELOOP_TOKEN'] = 'xxxxxxxxxxxxxxxxxxxxxxxxxxxxxxxxxxxxxxxxxxxxxxxxxxxxxxxxxxxx'\n",
    "db = DeepLake.from_documents(content_source, embeddings, dataset_path=f\"hub://deadbranches/{database_name}\")"
   ]
  },
  {
   "attachments": {},
   "cell_type": "markdown",
   "metadata": {},
   "source": [
    "## Data Retrieval"
   ]
  },
  {
   "attachments": {},
   "cell_type": "markdown",
   "metadata": {},
   "source": [
    "Local"
   ]
  },
  {
   "cell_type": "code",
   "execution_count": null,
   "metadata": {},
   "outputs": [
    {
     "name": "stderr",
     "output_type": "stream",
     "text": [
      "DEBUG:urllib3.connectionpool:Starting new HTTPS connection (1): spire.bugout.dev:443\n",
      "DEBUG:urllib3.connectionpool:https://spire.bugout.dev:443 \"POST /humbug/reports HTTP/1.1\" 200 0\n"
     ]
    },
    {
     "name": "stdout",
     "output_type": "stream",
     "text": [
      "mem://langchain_v2 loaded successfully.\n"
     ]
    },
    {
     "name": "stderr",
     "output_type": "stream",
     "text": [
      "DEBUG:urllib3.connectionpool:Starting new HTTPS connection (1): spire.bugout.dev:443\n",
      "DEBUG:urllib3.connectionpool:https://spire.bugout.dev:443 \"POST /humbug/reports HTTP/1.1\" 200 0\n",
      "DEBUG:urllib3.connectionpool:Starting new HTTPS connection (1): spire.bugout.dev:443\n"
     ]
    },
    {
     "name": "stderr",
     "output_type": "stream",
     "text": [
      "DEBUG:urllib3.connectionpool:https://spire.bugout.dev:443 \"POST /humbug/reports HTTP/1.1\" 200 0\n",
      "DEBUG:urllib3.connectionpool:Starting new HTTPS connection (1): spire.bugout.dev:443\n",
      "DEBUG:urllib3.connectionpool:https://spire.bugout.dev:443 \"POST /humbug/reports HTTP/1.1\" 200 0\n",
      "DEBUG:urllib3.connectionpool:Starting new HTTPS connection (1): spire.bugout.dev:443\n",
      "DEBUG:urllib3.connectionpool:https://spire.bugout.dev:443 \"POST /humbug/reports HTTP/1.1\" 200 0\n",
      "DEBUG:urllib3.connectionpool:Starting new HTTPS connection (1): spire.bugout.dev:443\n",
      "DEBUG:urllib3.connectionpool:https://spire.bugout.dev:443 \"POST /humbug/reports HTTP/1.1\" 200 0\n"
     ]
    }
   ],
   "source": [
    "db = DeepLake(dataset_path=f\"mem://{database_name}\", read_only=True, embedding_function=embeddings)"
   ]
  },
  {
   "attachments": {},
   "cell_type": "markdown",
   "metadata": {},
   "source": [
    "test"
   ]
  },
  {
   "attachments": {},
   "cell_type": "markdown",
   "metadata": {},
   "source": [
    "Remote"
   ]
  },
  {
   "cell_type": "code",
   "execution_count": null,
   "metadata": {},
   "outputs": [],
   "source": [
    "db = DeepLake(dataset_path=f\"hub://deadbranches/{database_name}\", read_only=True, embedding_function=embeddings)"
   ]
  },
  {
   "attachments": {},
   "cell_type": "markdown",
   "metadata": {},
   "source": [
    "## Visualize data"
   ]
  },
  {
   "cell_type": "markdown",
   "metadata": {},
   "source": [
    "### 2. Question Answering on Twitter algorithm codebase\n",
    "First load the dataset, construct the retriever, then construct the Conversational Chain"
   ]
  },
  {
   "cell_type": "code",
   "execution_count": 129,
   "metadata": {},
   "outputs": [],
   "source": [
    "\n",
    "retriever = db.as_retriever()\n",
    "retriever.search_kwargs['distance_metric'] = 'dot'\n",
    "retriever.search_kwargs['fetch_k'] = 100\n",
    "retriever.search_kwargs['maximal_marginal_relevance'] = True\n",
    "retriever.search_kwargs['k'] = 20"
   ]
  },
  {
   "cell_type": "code",
   "execution_count": 187,
   "metadata": {},
   "outputs": [
    {
     "data": {
      "application/vnd.jupyter.widget-view+json": {
       "model_id": "08f477e401f94bf0a50deafd48a67f55",
       "version_major": 2,
       "version_minor": 0
      },
      "text/plain": [
       "Batches:   0%|          | 0/1 [00:00<?, ?it/s]"
      ]
     },
     "metadata": {},
     "output_type": "display_data"
    },
    {
     "name": "stdout",
     "output_type": "stream",
     "text": [
      "Source:  https://github.com/hwchase17/langchain/tree/master/langchain/chains\\qa_with_sources\\map_reduce_prompt.py \n",
      "\n",
      "Content:  \n",
      "\"QUESTION: Which state/country's law governs the interpretation of the contract?\n",
      "=========\n",
      "Content: This Agreement is governed by English law and the parties submit to the exclusive jurisdiction of the English courts in  relation to any dispute (contractual or non-contractual) concerning this Agreement save that either party may apply to any court for an  injunction or other relief to protect its Intellectual Property Rights.\n",
      "Source: 28-pl\n",
      "Content: No Waiver. Failure or delay in exercising any right or remedy under this Agreement shall not constitute a waiver of such (or any other)  right or remedy.\\\n",
      "\\\n",
      "11.7 Severability. The invalidity, illegality or unenforceability of any term (or part of a term) of this Agreement shall not affect the continuation  in force of the remainder of the term (if any) and this Agreement.\\\n",
      "\\\n",
      "11.8 No Agency. Except as expressly stated otherwise, nothing in this Agreement shall create an agency, partnership or joint venture of any  kind between the parties.\\\n",
      "\\\n",
      "11.9 No Third-Party Beneficiaries.\n",
      "Source: 30-pl\n",
      "Content: (b) if Google believes, in good faith, that the Distributor has violated or caused Google to violate any Anti-Bribery Laws (as  defined in Clause 8.5) or that such a violation is reasonably likely to occur,\n",
      "Source: 4-pl\n",
      "=========\n",
      "FINAL ANSWER: This Agreement is governed by English law.\n",
      "SOURCES: 28-pl\"\n",
      "\n",
      "\n",
      "\n",
      "Source:  https://github.com/hwchase17/langchain/tree/master/langchain/output_parsers\\prompts.py \n",
      "\n",
      "Content:  \n",
      "\"# flake8: noqa\n",
      "from langchain.prompts.prompt import PromptTemplate\n",
      "\n",
      "NAIVE_FIX = \"\"\"Instructions:\n",
      "--------------\n",
      "{instructions}\n",
      "--------------\n",
      "Completion:\n",
      "--------------\n",
      "{completion}\n",
      "--------------\n",
      "\n",
      "Above, the Completion did not satisfy the constraints given in the Instructions.\n",
      "Error:\n",
      "--------------\n",
      "{error}\n",
      "--------------\n",
      "\n",
      "Please try again. Please only respond with an answer that satisfies the constraints laid out in the Instructions:\"\"\"\n",
      "\n",
      "\n",
      "NAIVE_FIX_PROMPT = PromptTemplate.from_template(NAIVE_FIX)\"\n",
      "\n",
      "\n",
      "\n",
      "Source:  https://github.com/hwchase17/langchain/tree/master/langchain/chains\\question_answering\\map_reduce_prompt.py \n",
      "\n",
      "Content:  \n",
      "\"Content: And a proud Ukrainian people, who have known 30 years  of independence, have repeatedly shown that they will not tolerate anyone who tries to take their country backwards.  \\\n",
      "\\\n",
      "To all Americans, I will be honest with you, as I\\u2019ve always promised. A Russian dictator, invading a foreign country, has costs around the world. \\\n",
      "\\\n",
      "And I\\u2019m taking robust action to make sure the pain of our sanctions  is targeted at Russia\\u2019s economy. And I will use every tool at our disposal to protect American businesses and consumers. \\\n",
      "\\\n",
      "Tonight, I can announce that the United States has worked with 30 other countries to release 60 Million barrels of oil from reserves around the world.  \\\n",
      "\\\n",
      "America will lead that effort, releasing 30 Million barrels from our own Strategic Petroleum Reserve. And we stand ready to do more if necessary, unified with our allies.  \\\n",
      "\\\n",
      "These steps will help blunt gas prices here at home. And I know the news about what\\u2019s happening can seem alarming. \\\n",
      "\\\n",
      "But I want you to know that we are going to be okay.\"\n",
      "\n",
      "\n",
      "\n",
      "Source:  https://github.com/hwchase17/langchain/tree/master/langchain/chains\\qa_with_sources\\stuff_prompt.py \n",
      "\n",
      "Content:  \n",
      "\"Source: 5-pl\n",
      "Content: More support for patients and families. \\\n",
      "\\\n",
      "To get there, I call on Congress to fund ARPA-H, the Advanced Research Projects Agency for Health. \\\n",
      "\\\n",
      "It\\u2019s based on DARPA\\u2014the Defense Department project that led to the Internet, GPS, and so much more.  \\\n",
      "\\\n",
      "ARPA-H will have a singular purpose\\u2014to drive breakthroughs in cancer, Alzheimer\\u2019s, diabetes, and more. \\\n",
      "\\\n",
      "A unity agenda for the nation. \\\n",
      "\\\n",
      "We can do this. \\\n",
      "\\\n",
      "My fellow Americans\\u2014tonight , we have gathered in a sacred space\\u2014the citadel of our democracy. \\\n",
      "\\\n",
      "In this Capitol, generation after generation, Americans have debated great questions amid great strife, and have done great things. \\\n",
      "\\\n",
      "We have fought for freedom, expanded liberty, defeated totalitarianism and terror. \\\n",
      "\\\n",
      "And built the strongest, freest, and most prosperous nation the world has ever known. \\\n",
      "\\\n",
      "Now is the hour. \\\n",
      "\\\n",
      "Our moment of responsibility. \\\n",
      "\\\n",
      "Our test of resolve and conscience, of history itself. \\\n",
      "\\\n",
      "It is in this moment that our character is formed. Our purpose is found. Our future is forged. \\\n",
      "\\\n",
      "Well I know this nation.\n",
      "Source: 34-pl\n",
      "=========\n",
      "FINAL ANSWER: The president did not mention Michael Jackson.\n",
      "SOURCES:\"\n",
      "\n",
      "\n",
      "\n"
     ]
    }
   ],
   "source": [
    "query = \"\"\"\n",
    "What other methods can I use to search a vector database other than similarity_search?\n",
    "\"\"\"\n",
    "results = db.similarity_search(query, distance_metric='dot', k=4)\n",
    "\n",
    "# print(\"class:\", type(results).__name__)\n",
    "for result in results:\n",
    "    print(f\"Source:  {result.metadata['source']} \")\n",
    "    print(\"\\nContent:  \")\n",
    "    page_content = json.dumps(result.page_content).replace('\\\\n', '\\n').replace('\\\\\"', '\"')\n",
    "    print(page_content)\n",
    "    print(\"\\n\\n\")"
   ]
  },
  {
   "cell_type": "markdown",
   "metadata": {},
   "source": [
    "You can also specify user defined functions using [Deep Lake filters](https://docs.deeplake.ai/en/latest/deeplake.core.dataset.html#deeplake.core.dataset.Dataset.filter)"
   ]
  },
  {
   "cell_type": "code",
   "execution_count": 15,
   "metadata": {},
   "outputs": [],
   "source": [
    "def filter(x):\n",
    "    # filter based on source code\n",
    "    # if 'com.google' in x['text'].data()['value']:\n",
    "    #     return False\n",
    "    \n",
    "    # filter based on path e.g. extension\n",
    "    metadata =  x['metadata'].data()['value']\n",
    "    return 'scala' in metadata['source'] or 'py' in metadata['source']\n",
    "\n",
    "### turn on below for custom filtering\n",
    "# retriever.search_kwargs['filter'] = filter"
   ]
  },
  {
   "cell_type": "code",
   "execution_count": 23,
   "metadata": {},
   "outputs": [],
   "source": [
    "os.environ['OPENAI_API_KEY'] = 'sk-xxxxxxxxxxxxxxxxxxxxxxxxxxxxxxxxxxxxxxxxx'\n",
    "\n",
    "from langchain.chat_models import ChatOpenAI\n",
    "from langchain.chains import ConversationalRetrievalChain\n",
    "\n",
    "import logging\n",
    "\n",
    "logging.basicConfig(level=logging.DEBUG)\n",
    "\n",
    "#model = ChatOpenAI(model='gpt-4') # 'gpt-3.5-turbo',\n",
    "model = ChatOpenAI(model='gpt-3.5-turbo') # 'gpt-3.5-turbo',\n",
    "qa = ConversationalRetrievalChain.from_llm(model,retriever=retriever)"
   ]
  },
  {
   "cell_type": "code",
   "execution_count": 25,
   "metadata": {},
   "outputs": [
    {
     "data": {
      "application/vnd.jupyter.widget-view+json": {
       "model_id": "78407ad8061944abbb6fe41d763e018d",
       "version_major": 2,
       "version_minor": 0
      },
      "text/plain": [
       "Batches:   0%|          | 0/1 [00:00<?, ?it/s]"
      ]
     },
     "metadata": {},
     "output_type": "display_data"
    },
    {
     "name": "stderr",
     "output_type": "stream",
     "text": [
      "DEBUG:openai:message='Request to OpenAI API' method=post path=https://api.openai.com/v1/chat/completions\n",
      "DEBUG:openai:api_version=None data='{\"messages\": [{\"role\": \"system\", \"content\": \"Use the following pieces of context to answer the users question. \\\\nIf you don\\'t know the answer, just say that you don\\'t know, don\\'t try to make up an answer.\\\\n----------------\\\\nHourly Parameter Definition\\\\nThe parameter &hourly= accepts the following values. Most weather variables are given as an instantaneous value for the indicated hour. Some variables like precipitation are calculated from the preceding hour as an average or sum.\\\\n\\\\nHourly Parameter Definition\\\\nThe parameter &hourly= accepts the following values. Most weather variables are given as an instantaneous value for the indicated hour. Some variables like precipitation are calculated from the preceding hour as an average or sum.\\\\n\\\\ndef _default_scripting_text_mapping(\\\\n    dim: int,\\\\n    vector_field: str = \\\\\"vector_field\\\\\",\\\\n) -> Dict:\\\\n    \\\\\"\\\\\"\\\\\"For Painless Scripting or Script Scoring,the default mapping to create index.\\\\\"\\\\\"\\\\\"\\\\n    return {\\\\n        \\\\\"mappings\\\\\": {\\\\n            \\\\\"properties\\\\\": {\\\\n                vector_field: {\\\\\"type\\\\\": \\\\\"knn_vector\\\\\", \\\\\"dimension\\\\\": dim},\\\\n            }\\\\n        }\\\\n    }\\\\n\\\\ndef _default_scripting_text_mapping(\\\\n    dim: int,\\\\n    vector_field: str = \\\\\"vector_field\\\\\",\\\\n) -> Dict:\\\\n    \\\\\"\\\\\"\\\\\"For Painless Scripting or Script Scoring,the default mapping to create index.\\\\\"\\\\\"\\\\\"\\\\n    return {\\\\n        \\\\\"mappings\\\\\": {\\\\n            \\\\\"properties\\\\\": {\\\\n                vector_field: {\\\\\"type\\\\\": \\\\\"knn_vector\\\\\", \\\\\"dimension\\\\\": dim},\\\\n            }\\\\n        }\\\\n    }\\\\n\\\\ndef _default_script_query(\\\\n    query_vector: List[float],\\\\n    space_type: str = \\\\\"l2\\\\\",\\\\n    pre_filter: Dict = MATCH_ALL_QUERY,\\\\n    vector_field: str = \\\\\"vector_field\\\\\",\\\\n) -> Dict:\\\\n    \\\\\"\\\\\"\\\\\"For Script Scoring Search, this is the default query.\\\\\"\\\\\"\\\\\"\\\\n    return {\\\\n        \\\\\"query\\\\\": {\\\\n            \\\\\"script_score\\\\\": {\\\\n                \\\\\"query\\\\\": pre_filter,\\\\n                \\\\\"script\\\\\": {\\\\n                    \\\\\"source\\\\\": \\\\\"knn_score\\\\\",\\\\n                    \\\\\"lang\\\\\": \\\\\"knn\\\\\",\\\\n                    \\\\\"params\\\\\": {\\\\n                        \\\\\"field\\\\\": vector_field,\\\\n                        \\\\\"query_value\\\\\": query_vector,\\\\n                        \\\\\"space_type\\\\\": space_type,\\\\n                    },\\\\n                },\\\\n            }\\\\n        }\\\\n    }\\\\n\\\\ndef _default_script_query(\\\\n    query_vector: List[float],\\\\n    space_type: str = \\\\\"l2\\\\\",\\\\n    pre_filter: Dict = MATCH_ALL_QUERY,\\\\n    vector_field: str = \\\\\"vector_field\\\\\",\\\\n) -> Dict:\\\\n    \\\\\"\\\\\"\\\\\"For Script Scoring Search, this is the default query.\\\\\"\\\\\"\\\\\"\\\\n    return {\\\\n        \\\\\"query\\\\\": {\\\\n            \\\\\"script_score\\\\\": {\\\\n                \\\\\"query\\\\\": pre_filter,\\\\n                \\\\\"script\\\\\": {\\\\n                    \\\\\"source\\\\\": \\\\\"knn_score\\\\\",\\\\n                    \\\\\"lang\\\\\": \\\\\"knn\\\\\",\\\\n                    \\\\\"params\\\\\": {\\\\n                        \\\\\"field\\\\\": vector_field,\\\\n                        \\\\\"query_value\\\\\": query_vector,\\\\n                        \\\\\"space_type\\\\\": space_type,\\\\n                    },\\\\n                },\\\\n            }\\\\n        }\\\\n    }\\\\n\\\\ndef similarity_search_with_score(\\\\n        self, query: str, k: int = 4\\\\n    ) -> List[Tuple[Document, float]]:\\\\n        \\\\\"\\\\\"\\\\\"Return docs most similar to query.\\\\n\\\\n        Args:\\\\n            query: Text to look up documents similar to.\\\\n            k: Number of Documents to return. Defaults to 4.\\\\n\\\\n        Returns:\\\\n            List of Documents most similar to the query and score for each\\\\n        \\\\\"\\\\\"\\\\\"\\\\n        try:\\\\n            from redis.commands.search.query import Query\\\\n        except ImportError:\\\\n            raise ValueError(\\\\n                \\\\\"Could not import redis python package. \\\\\"\\\\n                \\\\\"Please install it with `pip install redis`.\\\\\"\\\\n            )\\\\n\\\\n        # Creates embedding vector from user query\\\\n        embedding = self.embedding_function(query)\\\\n\\\\ndef similarity_search_with_score(\\\\n        self, query: str, k: int = 4\\\\n    ) -> List[Tuple[Document, float]]:\\\\n        \\\\\"\\\\\"\\\\\"Return docs most similar to query.\\\\n\\\\n        Args:\\\\n            query: Text to look up documents similar to.\\\\n            k: Number of Documents to return. Defaults to 4.\\\\n\\\\n        Returns:\\\\n            List of Documents most similar to the query and score for each\\\\n        \\\\\"\\\\\"\\\\\"\\\\n        try:\\\\n            from redis.commands.search.query import Query\\\\n        except ImportError:\\\\n            raise ValueError(\\\\n                \\\\\"Could not import redis python package. \\\\\"\\\\n                \\\\\"Please install it with `pip install redis`.\\\\\"\\\\n            )\\\\n\\\\n        # Creates embedding vector from user query\\\\n        embedding = self.embedding_function(query)\\\\n\\\\nBy default supports Approximate Search.\\\\n        Also supports Script Scoring and Painless Scripting.\\\\n\\\\n        Args:\\\\n            query: Text to look up documents similar to.\\\\n            k: Number of Documents to return. Defaults to 4.\\\\n\\\\n        Returns:\\\\n            List of Documents most similar to the query.\\\\n\\\\n        Optional Args:\\\\n            vector_field: Document field embeddings are stored in. Defaults to\\\\n            \\\\\"vector_field\\\\\".\\\\n\\\\n            text_field: Document field the text of the document is stored in. Defaults\\\\n            to \\\\\"text\\\\\".\\\\n\\\\n            metadata_field: Document field that metadata is stored in. Defaults to\\\\n            \\\\\"metadata\\\\\".\\\\n            Can be set to a special value \\\\\"*\\\\\" to include the entire document.\\\\n\\\\n        Optional Args for Approximate Search:\\\\n            search_type: \\\\\"approximate_search\\\\\"; default: \\\\\"approximate_search\\\\\"\\\\n\\\\n            size: number of results the query actually returns; default: 4\\\\n\\\\nBy default supports Approximate Search.\\\\n        Also supports Script Scoring and Painless Scripting.\\\\n\\\\n        Args:\\\\n            query: Text to look up documents similar to.\\\\n            k: Number of Documents to return. Defaults to 4.\\\\n\\\\n        Returns:\\\\n            List of Documents most similar to the query.\\\\n\\\\n        Optional Args:\\\\n            vector_field: Document field embeddings are stored in. Defaults to\\\\n            \\\\\"vector_field\\\\\".\\\\n\\\\n            text_field: Document field the text of the document is stored in. Defaults\\\\n            to \\\\\"text\\\\\".\\\\n\\\\n            metadata_field: Document field that metadata is stored in. Defaults to\\\\n            \\\\\"metadata\\\\\".\\\\n            Can be set to a special value \\\\\"*\\\\\" to include the entire document.\\\\n\\\\n        Optional Args for Approximate Search:\\\\n            search_type: \\\\\"approximate_search\\\\\"; default: \\\\\"approximate_search\\\\\"\\\\n\\\\n            size: number of results the query actually returns; default: 4\\\\n\\\\ndef print_text(text: str, color: Optional[str] = None, end: str = \\\\\"\\\\\") -> None:\\\\n    \\\\\"\\\\\"\\\\\"Print text with highlighting and no end characters.\\\\\"\\\\\"\\\\\"\\\\n    if color is None:\\\\n        text_to_print = text\\\\n    else:\\\\n        text_to_print = get_colored_text(text, color)\\\\n    print(text_to_print, end=end)\\\\n\\\\ndef print_text(text: str, color: Optional[str] = None, end: str = \\\\\"\\\\\") -> None:\\\\n    \\\\\"\\\\\"\\\\\"Print text with highlighting and no end characters.\\\\\"\\\\\"\\\\\"\\\\n    if color is None:\\\\n        text_to_print = text\\\\n    else:\\\\n        text_to_print = get_colored_text(text, color)\\\\n    print(text_to_print, end=end)\\\\n\\\\nOptional Args for Script Scoring Search:\\\\n            search_type: \\\\\"script_scoring\\\\\"; default: \\\\\"approximate_search\\\\\"\\\\n\\\\n            space_type: \\\\\"l2\\\\\", \\\\\"l1\\\\\", \\\\\"linf\\\\\", \\\\\"cosinesimil\\\\\", \\\\\"innerproduct\\\\\",\\\\n            \\\\\"hammingbit\\\\\"; default: \\\\\"l2\\\\\"\\\\n\\\\n            pre_filter: script_score query to pre-filter documents before identifying\\\\n            nearest neighbors; default: {\\\\\"match_all\\\\\": {}}\\\\n\\\\n        Optional Args for Painless Scripting Search:\\\\n            search_type: \\\\\"painless_scripting\\\\\"; default: \\\\\"approximate_search\\\\\"\\\\n\\\\n            space_type: \\\\\"l2Squared\\\\\", \\\\\"l1Norm\\\\\", \\\\\"cosineSimilarity\\\\\"; default: \\\\\"l2Squared\\\\\"\\\\n\\\\nOptional Args for Script Scoring Search:\\\\n            search_type: \\\\\"script_scoring\\\\\"; default: \\\\\"approximate_search\\\\\"\\\\n\\\\n            space_type: \\\\\"l2\\\\\", \\\\\"l1\\\\\", \\\\\"linf\\\\\", \\\\\"cosinesimil\\\\\", \\\\\"innerproduct\\\\\",\\\\n            \\\\\"hammingbit\\\\\"; default: \\\\\"l2\\\\\"\\\\n\\\\n            pre_filter: script_score query to pre-filter documents before identifying\\\\n            nearest neighbors; default: {\\\\\"match_all\\\\\": {}}\\\\n\\\\n        Optional Args for Painless Scripting Search:\\\\n            search_type: \\\\\"painless_scripting\\\\\"; default: \\\\\"approximate_search\\\\\"\\\\n\\\\n            space_type: \\\\\"l2Squared\\\\\", \\\\\"l1Norm\\\\\", \\\\\"cosineSimilarity\\\\\"; default: \\\\\"l2Squared\\\\\"\\\\n\\\\nReturns:\\\\n            bool: Whether or not the drop was successful.\\\\n        \\\\\"\\\\\"\\\\\"\\\\n        redis_url = get_from_dict_or_env(kwargs, \\\\\"redis_url\\\\\", \\\\\"REDIS_URL\\\\\")\\\\n        try:\\\\n            import redis\\\\n        except ImportError:\\\\n            raise ValueError(\\\\n                \\\\\"Could not import redis python package. \\\\\"\\\\n                \\\\\"Please install it with `pip install redis`.\\\\\"\\\\n            )\\\\n        try:\\\\n            # We need to first remove redis_url from kwargs,\\\\n            # otherwise passing it to Redis will result in an error.\\\\n            kwargs.pop(\\\\\"redis_url\\\\\")\\\\n            client = redis.from_url(url=redis_url, **kwargs)\\\\n        except ValueError as e:\\\\n            raise ValueError(f\\\\\"Your redis connected error: {e}\\\\\")\\\\n        # Check if index exists\\\\n        try:\\\\n            client.ft(index_name).dropindex(delete_documents)\\\\n            logger.info(\\\\\"Drop index\\\\\")\\\\n            return True\\\\n        except:  # noqa: E722\\\\n            # Index not exist\\\\n            return False\\\\n\\\\nReturns:\\\\n            bool: Whether or not the drop was successful.\\\\n        \\\\\"\\\\\"\\\\\"\\\\n        redis_url = get_from_dict_or_env(kwargs, \\\\\"redis_url\\\\\", \\\\\"REDIS_URL\\\\\")\\\\n        try:\\\\n            import redis\\\\n        except ImportError:\\\\n            raise ValueError(\\\\n                \\\\\"Could not import redis python package. \\\\\"\\\\n                \\\\\"Please install it with `pip install redis`.\\\\\"\\\\n            )\\\\n        try:\\\\n            # We need to first remove redis_url from kwargs,\\\\n            # otherwise passing it to Redis will result in an error.\\\\n            kwargs.pop(\\\\\"redis_url\\\\\")\\\\n            client = redis.from_url(url=redis_url, **kwargs)\\\\n        except ValueError as e:\\\\n            raise ValueError(f\\\\\"Your redis connected error: {e}\\\\\")\\\\n        # Check if index exists\\\\n        try:\\\\n            client.ft(index_name).dropindex(delete_documents)\\\\n            logger.info(\\\\\"Drop index\\\\\")\\\\n            return True\\\\n        except:  # noqa: E722\\\\n            # Index not exist\\\\n            return False\\\\n\\\\ndef _get_driver(self) -> Union[\\\\\"Chrome\\\\\", \\\\\"Firefox\\\\\"]:\\\\n        \\\\\"\\\\\"\\\\\"Create and return a WebDriver instance based on the specified browser.\\\\n\\\\n        Raises:\\\\n            ValueError: If an invalid browser is specified.\\\\n\\\\n        Returns:\\\\n            Union[Chrome, Firefox]: A WebDriver instance for the specified browser.\\\\n        \\\\\"\\\\\"\\\\\"\\\\n        if self.browser.lower() == \\\\\"chrome\\\\\":\\\\n            from selenium.webdriver import Chrome\\\\n            from selenium.webdriver.chrome.options import Options as ChromeOptions\\\\n\\\\ndef _get_driver(self) -> Union[\\\\\"Chrome\\\\\", \\\\\"Firefox\\\\\"]:\\\\n        \\\\\"\\\\\"\\\\\"Create and return a WebDriver instance based on the specified browser.\\\\n\\\\n        Raises:\\\\n            ValueError: If an invalid browser is specified.\\\\n\\\\n        Returns:\\\\n            Union[Chrome, Firefox]: A WebDriver instance for the specified browser.\\\\n        \\\\\"\\\\\"\\\\\"\\\\n        if self.browser.lower() == \\\\\"chrome\\\\\":\\\\n            from selenium.webdriver import Chrome\\\\n            from selenium.webdriver.chrome.options import Options as ChromeOptions\\\\n\\\\nelse:\\\\n            toret = \\\\\"No good search result found\\\\\"\\\\n        return toret\\\\n\\\\nelse:\\\\n            toret = \\\\\"No good search result found\\\\\"\\\\n        return toret\"}, {\"role\": \"user\", \"content\": \"How do I load a 4bit quantized LLaMA model into langchain for inference tasks? The model was quantized using GPTQ, and has a group size of 128?\"}], \"model\": \"gpt-3.5-turbo\", \"max_tokens\": null, \"stream\": false, \"n\": 1, \"temperature\": 0.7}' message='Post details'\n",
      "DEBUG:urllib3.connectionpool:https://api.openai.com:443 \"POST /v1/chat/completions HTTP/1.1\" 200 None\n",
      "DEBUG:openai:message='OpenAI API response' path=https://api.openai.com/v1/chat/completions processing_ms=4838 request_id=3111b5c1c9fe6d25c9d28525dc37bd8f response_code=200\n"
     ]
    },
    {
     "name": "stdout",
     "output_type": "stream",
     "text": [
      "-> **Question**: How do I load a 4bit quantized LLaMA model into langchain for inference tasks? The model was quantized using GPTQ, and has a group size of 128? \n",
      "\n",
      "**Answer**: I'm sorry, but I am not familiar with the Langchain framework or with the GPTQ quantization method. Without more information, I cannot provide an accurate answer to your question. Can you provide more details or context about what you are trying to do? \n",
      "\n"
     ]
    }
   ],
   "source": [
    "questions = [\n",
    "    \"How do I load a 4bit quantized LLaMA model into langchain for inference tasks? The model was quantized using GPTQ, and has a group size of 128?\",\n",
    "] \n",
    "chat_history = []\n",
    "\n",
    "# for question in questions:  \n",
    "#     result = qa({\"question\": question, \"chat_history\": chat_history})\n",
    "#     print(result)\n",
    "\n",
    "for question in questions:  \n",
    "    result = qa({\"question\": question, \"chat_history\": chat_history})\n",
    "    chat_history.append((question, result['answer']))\n",
    "    print(f\"-> **Question**: {question} \\n\")\n",
    "    print(f\"**Answer**: {result['answer']} \\n\")\n"
   ]
  },
  {
   "attachments": {},
   "cell_type": "markdown",
   "metadata": {},
   "source": [
    "-> **Question**: What does favCountParams do? \n",
    "\n",
    "**Answer**: `favCountParams` is an optional ThriftLinearFeatureRankingParams instance that represents the parameters related to the \"favorite count\" feature in the ranking process. It is used to control the weight of the favorite count feature while ranking tweets. The favorite count is the number of times a tweet has been marked as a favorite by users, and it is considered an important signal in the ranking of tweets. By using `favCountParams`, the system can adjust the importance of the favorite count while calculating the final ranking score of a tweet. \n",
    "\n",
    "-> **Question**: is it Likes + Bookmarks, or not clear from the code?\n",
    "\n",
    "**Answer**: From the provided code, it is not clear if the favorite count metric is determined by the sum of likes and bookmarks. The favorite count is mentioned in the code, but there is no explicit reference to how it is calculated in terms of likes and bookmarks. \n",
    "\n",
    "-> **Question**: What are the major negative modifiers that lower your linear ranking parameters?\n",
    "\n",
    "**Answer**: In the given code, major negative modifiers that lower the linear ranking parameters are:\n",
    "\n",
    "1. `scoringData.querySpecificScore`: This score adjustment is based on the query-specific information. If its value is negative, it will lower the linear ranking parameters.\n",
    "\n",
    "2. `scoringData.authorSpecificScore`: This score adjustment is based on the author-specific information. If its value is negative, it will also lower the linear ranking parameters.\n",
    "\n",
    "Please note that I cannot provide more information on the exact calculations of these negative modifiers, as the code for their determination is not provided. \n",
    "\n",
    "-> **Question**: How do you get assigned to SimClusters?\n",
    "\n",
    "**Answer**: The assignment to SimClusters occurs through a Metropolis-Hastings sampling-based community detection algorithm that is run on the Producer-Producer similarity graph. This graph is created by computing the cosine similarity scores between the users who follow each producer. The algorithm identifies communities or clusters of Producers with similar followers, and takes a parameter *k* for specifying the number of communities to be detected.\n",
    "\n",
    "After the community detection, different users and content are represented as sparse, interpretable vectors within these identified communities (SimClusters). The resulting SimClusters embeddings can be used for various recommendation tasks. \n",
    "\n",
    "-> **Question**: What is needed to migrate from one SimClusters to another SimClusters?\n",
    "\n",
    "**Answer**: To migrate from one SimClusters representation to another, you can follow these general steps:\n",
    "\n",
    "1. **Prepare the new representation**: Create the new SimClusters representation using any necessary updates or changes in the clustering algorithm, similarity measures, or other model parameters. Ensure that this new representation is properly stored and indexed as needed.\n",
    "\n",
    "2. **Update the relevant code and configurations**: Modify the relevant code and configuration files to reference the new SimClusters representation. This may involve updating paths or dataset names to point to the new representation, as well as changing code to use the new clustering method or similarity functions if applicable.\n",
    "\n",
    "3. **Test the new representation**: Before deploying the changes to production, thoroughly test the new SimClusters representation to ensure its effectiveness and stability. This may involve running offline jobs like candidate generation and label candidates, validating the output, as well as testing the new representation in the evaluation environment using evaluation tools like TweetSimilarityEvaluationAdhocApp.\n",
    "\n",
    "4. **Deploy the changes**: Once the new representation has been tested and validated, deploy the changes to production. This may involve creating a zip file, uploading it to the packer, and then scheduling it with Aurora. Be sure to monitor the system to ensure a smooth transition between representations and verify that the new representation is being used in recommendations as expected.\n",
    "\n",
    "5. **Monitor and assess the new representation**: After the new representation has been deployed, continue to monitor its performance and impact on recommendations. Take note of any improvements or issues that arise and be prepared to iterate on the new representation if needed. Always ensure that the results and performance metrics align with the system's goals and objectives. \n",
    "\n",
    "-> **Question**: How much do I get boosted within my cluster?\n",
    "\n",
    "**Answer**: It's not possible to determine the exact amount your content is boosted within your cluster in the SimClusters representation without specific data about your content and its engagement metrics. However, a combination of factors, such as the favorite score and follow score, alongside other engagement signals and SimCluster calculations, influence the boosting of content. \n",
    "\n",
    "-> **Question**: How does Heavy ranker work. what are it’s main inputs?\n",
    "\n",
    "**Answer**: The Heavy Ranker is a machine learning model that plays a crucial role in ranking and scoring candidates within the recommendation algorithm. Its primary purpose is to predict the likelihood of a user engaging with a tweet or connecting with another user on the platform.\n",
    "\n",
    "Main inputs to the Heavy Ranker consist of:\n",
    "\n",
    "1. Static Features: These are features that can be computed directly from a tweet at the time it's created, such as whether it has a URL, has cards, has quotes, etc. These features are produced by the Index Ingester as the tweets are generated and stored in the index.\n",
    "\n",
    "2. Real-time Features: These per-tweet features can change after the tweet has been indexed. They mostly consist of social engagements like retweet count, favorite count, reply count, and some spam signals that are computed with later activities. The Signal Ingester, which is part of a Heron topology, processes multiple event streams to collect and compute these real-time features.\n",
    "\n",
    "3. User Table Features: These per-user features are obtained from the User Table Updater that processes a stream written by the user service. This input is used to store sparse real-time user information, which is later propagated to the tweet being scored by looking up the author of the tweet.\n",
    "\n",
    "4. Search Context Features: These features represent the context of the current searcher, like their UI language, their content consumption, and the current time (implied). They are combined with Tweet Data to compute some of the features used in scoring.\n",
    "\n",
    "These inputs are then processed by the Heavy Ranker to score and rank candidates based on their relevance and likelihood of engagement by the user. \n",
    "\n",
    "-> **Question**: How can one influence Heavy ranker?\n",
    "\n",
    "**Answer**: To influence the Heavy Ranker's output or ranking of content, consider the following actions:\n",
    "\n",
    "1. Improve content quality: Create high-quality and engaging content that is relevant, informative, and valuable to users. High-quality content is more likely to receive positive user engagement, which the Heavy Ranker considers when ranking content.\n",
    "\n",
    "2. Increase user engagement: Encourage users to interact with content through likes, retweets, replies, and comments. Higher engagement levels can lead to better ranking in the Heavy Ranker's output.\n",
    "\n",
    "3. Optimize your user profile: A user's reputation, based on factors such as their follower count and follower-to-following ratio, may impact the ranking of their content. Maintain a good reputation by following relevant users, keeping a reasonable follower-to-following ratio and engaging with your followers.\n",
    "\n",
    "4. Enhance content discoverability: Use relevant keywords, hashtags, and mentions in your tweets, making it easier for users to find and engage with your content. This increased discoverability may help improve the ranking of your content by the Heavy Ranker.\n",
    "\n",
    "5. Leverage multimedia content: Experiment with different content formats, such as videos, images, and GIFs, which may capture users' attention and increase engagement, resulting in better ranking by the Heavy Ranker.\n",
    "\n",
    "6. User feedback: Monitor and respond to feedback for your content. Positive feedback may improve your ranking, while negative feedback provides an opportunity to learn and improve.\n",
    "\n",
    "Note that the Heavy Ranker uses a combination of machine learning models and various features to rank the content. While the above actions may help influence the ranking, there are no guarantees as the ranking process is determined by a complex algorithm, which evolves over time. \n",
    "\n",
    "-> **Question**: why threads and long tweets do so well on the platform?\n",
    "\n",
    "**Answer**: Threads and long tweets perform well on the platform for several reasons:\n",
    "\n",
    "1. **More content and context**: Threads and long tweets provide more information and context about a topic, which can make the content more engaging and informative for users. People tend to appreciate a well-structured and detailed explanation of a subject or a story, and threads and long tweets can do that effectively.\n",
    "\n",
    "2. **Increased user engagement**: As threads and long tweets provide more content, they also encourage users to engage with the tweets through replies, retweets, and likes. This increased engagement can lead to better visibility of the content, as the Twitter algorithm considers user engagement when ranking and surfacing tweets.\n",
    "\n",
    "3. **Narrative structure**: Threads enable users to tell stories or present arguments in a step-by-step manner, making the information more accessible and easier to follow. This narrative structure can capture users' attention and encourage them to read through the entire thread and interact with the content.\n",
    "\n",
    "4. **Expanded reach**: When users engage with a thread, their interactions can bring the content to the attention of their followers, helping to expand the reach of the thread. This increased visibility can lead to more interactions and higher performance for the threaded tweets.\n",
    "\n",
    "5. **Higher content quality**: Generally, threads and long tweets require more thought and effort to create, which may lead to higher quality content. Users are more likely to appreciate and interact with high-quality, well-reasoned content, further improving the performance of these tweets within the platform.\n",
    "\n",
    "Overall, threads and long tweets perform well on Twitter because they encourage user engagement and provide a richer, more informative experience that users find valuable. \n",
    "\n",
    "-> **Question**: Are thread and long tweet creators building a following that reacts to only threads?\n",
    "\n",
    "**Answer**: Based on the provided code and context, there isn't enough information to conclude if the creators of threads and long tweets primarily build a following that engages with only thread-based content. The code provided is focused on Twitter's recommendation and ranking algorithms, as well as infrastructure components like Kafka, partitions, and the Follow Recommendations Service (FRS). To answer your question, data analysis of user engagement and results of specific edge cases would be required. \n",
    "\n",
    "-> **Question**: Do you need to follow different strategies to get most followers vs to get most likes and bookmarks per tweet?\n",
    "\n",
    "**Answer**: Yes, different strategies need to be followed to maximize the number of followers compared to maximizing likes and bookmarks per tweet. While there may be some overlap in the approaches, they target different aspects of user engagement.\n",
    "\n",
    "Maximizing followers: The primary focus is on growing your audience on the platform. Strategies include:\n",
    "\n",
    "1. Consistently sharing high-quality content related to your niche or industry.\n",
    "2. Engaging with others on the platform by replying, retweeting, and mentioning other users.\n",
    "3. Using relevant hashtags and participating in trending conversations.\n",
    "4. Collaborating with influencers and other users with a large following.\n",
    "5. Posting at optimal times when your target audience is most active.\n",
    "6. Optimizing your profile by using a clear profile picture, catchy bio, and relevant links.\n",
    "\n",
    "Maximizing likes and bookmarks per tweet: The focus is on creating content that resonates with your existing audience and encourages engagement. Strategies include:\n",
    "\n",
    "1. Crafting engaging and well-written tweets that encourage users to like or save them.\n",
    "2. Incorporating visually appealing elements, such as images, GIFs, or videos, that capture attention.\n",
    "3. Asking questions, sharing opinions, or sparking conversations that encourage users to engage with your tweets.\n",
    "4. Using analytics to understand the type of content that resonates with your audience and tailoring your tweets accordingly.\n",
    "5. Posting a mix of educational, entertaining, and promotional content to maintain variety and interest.\n",
    "6. Timing your tweets strategically to maximize engagement, likes, and bookmarks per tweet.\n",
    "\n",
    "Both strategies can overlap, and you may need to adapt your approach by understanding your target audience's preferences and analyzing your account's performance. However, it's essential to recognize that maximizing followers and maximizing likes and bookmarks per tweet have different focuses and require specific strategies. \n",
    "\n",
    "-> **Question**: Content meta data and how it impacts virality (e.g. ALT in images).\n",
    "\n",
    "**Answer**: There is no direct information in the provided context about how content metadata, such as ALT text in images, impacts the virality of a tweet or post. However, it's worth noting that including ALT text can improve the accessibility of your content for users who rely on screen readers, which may lead to increased engagement for a broader audience. Additionally, metadata can be used in search engine optimization, which might improve the visibility of the content, but the context provided does not mention any specific correlation with virality. \n",
    "\n",
    "-> **Question**: What are some unexpected fingerprints for spam factors?\n",
    "\n",
    "**Answer**: In the provided context, an unusual indicator of spam factors is when a tweet contains a non-media, non-news link. If the tweet has a link but does not have an image URL, video URL, or news URL, it is considered a potential spam vector, and a threshold for user reputation (tweepCredThreshold) is set to MIN_TWEEPCRED_WITH_LINK.\n",
    "\n",
    "While this rule may not cover all possible unusual spam indicators, it is derived from the specific codebase and logic shared in the context. \n",
    "\n",
    "-> **Question**: Is there any difference between company verified checkmarks and blue verified individual checkmarks?\n",
    "\n",
    "**Answer**: Yes, there is a distinction between the verified checkmarks for companies and blue verified checkmarks for individuals. The code snippet provided mentions \"Blue-verified account boost\" which indicates that there is a separate category for blue verified accounts. Typically, blue verified checkmarks are used to indicate notable individuals, while verified checkmarks are for companies or organizations. \n"
   ]
  },
  {
   "cell_type": "markdown",
   "metadata": {},
   "source": []
  }
 ],
 "metadata": {
  "kernelspec": {
   "display_name": "Python 3 (ipykernel)",
   "language": "python",
   "name": "python3"
  },
  "language_info": {
   "codemirror_mode": {
    "name": "ipython",
    "version": 3
   },
   "file_extension": ".py",
   "mimetype": "text/x-python",
   "name": "python",
   "nbconvert_exporter": "python",
   "pygments_lexer": "ipython3",
   "version": "3.9.16"
  }
 },
 "nbformat": 4,
 "nbformat_minor": 2
}
